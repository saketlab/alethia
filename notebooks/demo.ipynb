{
 "cells": [
  {
   "cell_type": "code",
   "execution_count": 1,
   "id": "ae14cbff",
   "metadata": {},
   "outputs": [],
   "source": [
    "import pandas as pd\n",
    "\n",
    "from alethia import alethia"
   ]
  },
  {
   "cell_type": "code",
   "execution_count": 2,
   "id": "dbc7ca29-cce7-4e7d-b98c-95a684fb7a4a",
   "metadata": {},
   "outputs": [
    {
     "data": {
      "text/html": [
       "<div>\n",
       "<style scoped>\n",
       "    .dataframe tbody tr th:only-of-type {\n",
       "        vertical-align: middle;\n",
       "    }\n",
       "\n",
       "    .dataframe tbody tr th {\n",
       "        vertical-align: top;\n",
       "    }\n",
       "\n",
       "    .dataframe thead th {\n",
       "        text-align: right;\n",
       "    }\n",
       "</style>\n",
       "<table border=\"1\" class=\"dataframe\">\n",
       "  <thead>\n",
       "    <tr style=\"text-align: right;\">\n",
       "      <th></th>\n",
       "      <th>State</th>\n",
       "      <th>1951</th>\n",
       "      <th>1961</th>\n",
       "      <th>1971</th>\n",
       "      <th>1981</th>\n",
       "      <th>1991</th>\n",
       "      <th>2001</th>\n",
       "    </tr>\n",
       "  </thead>\n",
       "  <tbody>\n",
       "    <tr>\n",
       "      <th>0</th>\n",
       "      <td>Andaman and Nicobar Islands</td>\n",
       "      <td>Andaman and Nicobar</td>\n",
       "      <td>Andaman and Nicobar Islands</td>\n",
       "      <td>Andaman and Nicobar Islands</td>\n",
       "      <td>Andaman and Nicobar Islands</td>\n",
       "      <td>Andaman and Nicobar Islands</td>\n",
       "      <td>Andaman and Nicobar Islands</td>\n",
       "    </tr>\n",
       "    <tr>\n",
       "      <th>1</th>\n",
       "      <td>Andaman and Nicobar Islands</td>\n",
       "      <td>Andaman and Nicobar</td>\n",
       "      <td>Andaman and Nicobar Islands</td>\n",
       "      <td>Andaman and Nicobar Islands</td>\n",
       "      <td>Andaman</td>\n",
       "      <td>Andaman</td>\n",
       "      <td>Andaman</td>\n",
       "    </tr>\n",
       "    <tr>\n",
       "      <th>2</th>\n",
       "      <td>Andaman and Nicobar Islands</td>\n",
       "      <td>Andaman and Nicobar</td>\n",
       "      <td>Andaman and Nicobar Islands</td>\n",
       "      <td>Andaman and Nicobar Islands</td>\n",
       "      <td>Nicobar</td>\n",
       "      <td>Nicobar</td>\n",
       "      <td>Nicobar</td>\n",
       "    </tr>\n",
       "    <tr>\n",
       "      <th>3</th>\n",
       "      <td>Andhra Pradesh</td>\n",
       "      <td>Srikakulam</td>\n",
       "      <td>Srikakulam</td>\n",
       "      <td>Srikakulam</td>\n",
       "      <td>Srikakulam</td>\n",
       "      <td>Srikakulam</td>\n",
       "      <td>Srikakulam</td>\n",
       "    </tr>\n",
       "    <tr>\n",
       "      <th>4</th>\n",
       "      <td>Andhra Pradesh</td>\n",
       "      <td>Srikakulam</td>\n",
       "      <td>Srikakulam</td>\n",
       "      <td>Srikakulam</td>\n",
       "      <td>Vizianagaram</td>\n",
       "      <td>Vizianagaram</td>\n",
       "      <td>Vizianagaram</td>\n",
       "    </tr>\n",
       "    <tr>\n",
       "      <th>...</th>\n",
       "      <td>...</td>\n",
       "      <td>...</td>\n",
       "      <td>...</td>\n",
       "      <td>...</td>\n",
       "      <td>...</td>\n",
       "      <td>...</td>\n",
       "      <td>...</td>\n",
       "    </tr>\n",
       "    <tr>\n",
       "      <th>631</th>\n",
       "      <td>West Bengal</td>\n",
       "      <td>Burdwan</td>\n",
       "      <td>Burdwan</td>\n",
       "      <td>Burdwan</td>\n",
       "      <td>Burdwan</td>\n",
       "      <td>Burdwan</td>\n",
       "      <td>Burdwan</td>\n",
       "    </tr>\n",
       "    <tr>\n",
       "      <th>632</th>\n",
       "      <td>West Bengal</td>\n",
       "      <td>Birbhum</td>\n",
       "      <td>Birbhum</td>\n",
       "      <td>Birbhum</td>\n",
       "      <td>Birbhum</td>\n",
       "      <td>Birbhum</td>\n",
       "      <td>Birbhum</td>\n",
       "    </tr>\n",
       "    <tr>\n",
       "      <th>633</th>\n",
       "      <td>West Bengal</td>\n",
       "      <td>Bankura</td>\n",
       "      <td>Bankura</td>\n",
       "      <td>Bankura</td>\n",
       "      <td>Bankura</td>\n",
       "      <td>Bankura</td>\n",
       "      <td>Bankura</td>\n",
       "    </tr>\n",
       "    <tr>\n",
       "      <th>634</th>\n",
       "      <td>West Bengal</td>\n",
       "      <td>Midnapur</td>\n",
       "      <td>Midnapore</td>\n",
       "      <td>Midnapore</td>\n",
       "      <td>Midnapore</td>\n",
       "      <td>Midnapore</td>\n",
       "      <td>Midnapore</td>\n",
       "    </tr>\n",
       "    <tr>\n",
       "      <th>635</th>\n",
       "      <td>West Bengal</td>\n",
       "      <td>Purulia</td>\n",
       "      <td>Puralia</td>\n",
       "      <td>Puralia</td>\n",
       "      <td>Puralia</td>\n",
       "      <td>Puralia</td>\n",
       "      <td>Puralia</td>\n",
       "    </tr>\n",
       "  </tbody>\n",
       "</table>\n",
       "<p>636 rows × 7 columns</p>\n",
       "</div>"
      ],
      "text/plain": [
       "                           State                 1951  \\\n",
       "0    Andaman and Nicobar Islands  Andaman and Nicobar   \n",
       "1    Andaman and Nicobar Islands  Andaman and Nicobar   \n",
       "2    Andaman and Nicobar Islands  Andaman and Nicobar   \n",
       "3                 Andhra Pradesh           Srikakulam   \n",
       "4                 Andhra Pradesh           Srikakulam   \n",
       "..                           ...                  ...   \n",
       "631                  West Bengal              Burdwan   \n",
       "632                  West Bengal              Birbhum   \n",
       "633                  West Bengal              Bankura   \n",
       "634                  West Bengal             Midnapur   \n",
       "635                  West Bengal              Purulia   \n",
       "\n",
       "                            1961                         1971  \\\n",
       "0    Andaman and Nicobar Islands  Andaman and Nicobar Islands   \n",
       "1    Andaman and Nicobar Islands  Andaman and Nicobar Islands   \n",
       "2    Andaman and Nicobar Islands  Andaman and Nicobar Islands   \n",
       "3                     Srikakulam                   Srikakulam   \n",
       "4                     Srikakulam                   Srikakulam   \n",
       "..                           ...                          ...   \n",
       "631                      Burdwan                      Burdwan   \n",
       "632                      Birbhum                      Birbhum   \n",
       "633                      Bankura                      Bankura   \n",
       "634                    Midnapore                    Midnapore   \n",
       "635                      Puralia                      Puralia   \n",
       "\n",
       "                            1981                         1991  \\\n",
       "0    Andaman and Nicobar Islands  Andaman and Nicobar Islands   \n",
       "1                        Andaman                      Andaman   \n",
       "2                        Nicobar                      Nicobar   \n",
       "3                     Srikakulam                   Srikakulam   \n",
       "4                   Vizianagaram                 Vizianagaram   \n",
       "..                           ...                          ...   \n",
       "631                      Burdwan                      Burdwan   \n",
       "632                      Birbhum                      Birbhum   \n",
       "633                      Bankura                      Bankura   \n",
       "634                    Midnapore                    Midnapore   \n",
       "635                      Puralia                      Puralia   \n",
       "\n",
       "                            2001  \n",
       "0    Andaman and Nicobar Islands  \n",
       "1                        Andaman  \n",
       "2                        Nicobar  \n",
       "3                     Srikakulam  \n",
       "4                   Vizianagaram  \n",
       "..                           ...  \n",
       "631                      Burdwan  \n",
       "632                      Birbhum  \n",
       "633                      Bankura  \n",
       "634                    Midnapore  \n",
       "635                      Puralia  \n",
       "\n",
       "[636 rows x 7 columns]"
      ]
     },
     "execution_count": 2,
     "metadata": {},
     "output_type": "execute_result"
    }
   ],
   "source": [
    "df = pd.read_csv(\"../data/India_district_mappings.csv\")\n",
    "df"
   ]
  },
  {
   "cell_type": "code",
   "execution_count": 3,
   "id": "70f0054a",
   "metadata": {},
   "outputs": [],
   "source": [
    "target_list = list(df[\"2001\"])\n",
    "correct_entries = target_list\n",
    "reference_entries = [x for x in list(set(target_list)) if str(x) != \"nan\"]"
   ]
  },
  {
   "cell_type": "code",
   "execution_count": 4,
   "id": "bd9887aa",
   "metadata": {},
   "outputs": [
    {
     "name": "stdout",
     "output_type": "stream",
     "text": [
      "Initializing model Salesforce/SFR-Embedding-Mistral\n",
      "Loading model Salesforce/SFR-Embedding-Mistral\n"
     ]
    },
    {
     "data": {
      "application/vnd.jupyter.widget-view+json": {
       "model_id": "b51c3ca765a3470ab5494b57e1c997a8",
       "version_major": 2,
       "version_minor": 0
      },
      "text/plain": [
       "Loading checkpoint shards:   0%|          | 0/3 [00:00<?, ?it/s]"
      ]
     },
     "metadata": {},
     "output_type": "display_data"
    },
    {
     "name": "stdout",
     "output_type": "stream",
     "text": [
      "Successfully loaded model: Salesforce/SFR-Embedding-Mistral\n",
      "Initial resource usage:\n",
      "CPU Usage: 4.8%\n",
      "RAM Usage: 8.6%\n",
      "GPU: NVIDIA RTX A6000\n",
      "GPU Memory Usage: 26.49GB / 47.41GB\n",
      "Computing reference embeddings for 584 entries...\n",
      "Processing 636 incorrect entries...\n"
     ]
    },
    {
     "name": "stderr",
     "output_type": "stream",
     "text": [
      "Processing entries: 100%|██████████████████| 636/636 [00:37<00:00, 16.81entry/s]"
     ]
    },
    {
     "name": "stdout",
     "output_type": "stream",
     "text": [
      "Processing completed in 69.70 seconds\n"
     ]
    },
    {
     "name": "stderr",
     "output_type": "stream",
     "text": [
      "\n"
     ]
    }
   ],
   "source": [
    "col = \"1951\"\n",
    "incorrect_entries = df[col].tolist()\n",
    "alethia_output = alethia(incorrect_entries, reference_entries)"
   ]
  },
  {
   "cell_type": "code",
   "execution_count": 5,
   "id": "5dfab9d7",
   "metadata": {},
   "outputs": [
    {
     "data": {
      "text/html": [
       "<div>\n",
       "<style scoped>\n",
       "    .dataframe tbody tr th:only-of-type {\n",
       "        vertical-align: middle;\n",
       "    }\n",
       "\n",
       "    .dataframe tbody tr th {\n",
       "        vertical-align: top;\n",
       "    }\n",
       "\n",
       "    .dataframe thead th {\n",
       "        text-align: right;\n",
       "    }\n",
       "</style>\n",
       "<table border=\"1\" class=\"dataframe\">\n",
       "  <thead>\n",
       "    <tr style=\"text-align: right;\">\n",
       "      <th></th>\n",
       "      <th>given_entity</th>\n",
       "      <th>alethia_prediction</th>\n",
       "      <th>alethia_score</th>\n",
       "    </tr>\n",
       "  </thead>\n",
       "  <tbody>\n",
       "    <tr>\n",
       "      <th>0</th>\n",
       "      <td>Andaman and Nicobar</td>\n",
       "      <td>Andaman and Nicobar Islands</td>\n",
       "      <td>0.994246</td>\n",
       "    </tr>\n",
       "    <tr>\n",
       "      <th>1</th>\n",
       "      <td>Andaman and Nicobar</td>\n",
       "      <td>Andaman and Nicobar Islands</td>\n",
       "      <td>0.994246</td>\n",
       "    </tr>\n",
       "    <tr>\n",
       "      <th>2</th>\n",
       "      <td>Andaman and Nicobar</td>\n",
       "      <td>Andaman and Nicobar Islands</td>\n",
       "      <td>0.994246</td>\n",
       "    </tr>\n",
       "    <tr>\n",
       "      <th>5</th>\n",
       "      <td>Vizagapatnam</td>\n",
       "      <td>Visakhapatnam</td>\n",
       "      <td>0.969572</td>\n",
       "    </tr>\n",
       "    <tr>\n",
       "      <th>6</th>\n",
       "      <td>Vizagapatnam</td>\n",
       "      <td>Visakhapatnam</td>\n",
       "      <td>0.969572</td>\n",
       "    </tr>\n",
       "    <tr>\n",
       "      <th>...</th>\n",
       "      <td>...</td>\n",
       "      <td>...</td>\n",
       "      <td>...</td>\n",
       "    </tr>\n",
       "    <tr>\n",
       "      <th>622</th>\n",
       "      <td>West Dinajpur</td>\n",
       "      <td>Uttar Dinajpur</td>\n",
       "      <td>0.941147</td>\n",
       "    </tr>\n",
       "    <tr>\n",
       "      <th>626</th>\n",
       "      <td>24 - Parganas</td>\n",
       "      <td>South Twenty Four Parganas</td>\n",
       "      <td>0.928405</td>\n",
       "    </tr>\n",
       "    <tr>\n",
       "      <th>627</th>\n",
       "      <td>24 - Parganas</td>\n",
       "      <td>South Twenty Four Parganas</td>\n",
       "      <td>0.928405</td>\n",
       "    </tr>\n",
       "    <tr>\n",
       "      <th>634</th>\n",
       "      <td>Midnapur</td>\n",
       "      <td>Midnapore</td>\n",
       "      <td>0.954628</td>\n",
       "    </tr>\n",
       "    <tr>\n",
       "      <th>635</th>\n",
       "      <td>Purulia</td>\n",
       "      <td>Birbhum</td>\n",
       "      <td>0.892271</td>\n",
       "    </tr>\n",
       "  </tbody>\n",
       "</table>\n",
       "<p>233 rows × 3 columns</p>\n",
       "</div>"
      ],
      "text/plain": [
       "            given_entity           alethia_prediction  alethia_score\n",
       "0    Andaman and Nicobar  Andaman and Nicobar Islands       0.994246\n",
       "1    Andaman and Nicobar  Andaman and Nicobar Islands       0.994246\n",
       "2    Andaman and Nicobar  Andaman and Nicobar Islands       0.994246\n",
       "5           Vizagapatnam                Visakhapatnam       0.969572\n",
       "6           Vizagapatnam                Visakhapatnam       0.969572\n",
       "..                   ...                          ...            ...\n",
       "622        West Dinajpur               Uttar Dinajpur       0.941147\n",
       "626        24 - Parganas   South Twenty Four Parganas       0.928405\n",
       "627        24 - Parganas   South Twenty Four Parganas       0.928405\n",
       "634             Midnapur                    Midnapore       0.954628\n",
       "635              Purulia                      Birbhum       0.892271\n",
       "\n",
       "[233 rows x 3 columns]"
      ]
     },
     "execution_count": 5,
     "metadata": {},
     "output_type": "execute_result"
    }
   ],
   "source": [
    "alethia_output[alethia_output.given_entity != alethia_output.alethia_prediction]"
   ]
  },
  {
   "cell_type": "markdown",
   "id": "88ad565d",
   "metadata": {},
   "source": [
    "# Plotting examples"
   ]
  },
  {
   "cell_type": "code",
   "execution_count": 6,
   "id": "dd81558e",
   "metadata": {},
   "outputs": [],
   "source": [
    "import matplotlib.pyplot as plt\n",
    "import seaborn as sns\n",
    "\n",
    "%matplotlib inline\n",
    "\n",
    "from alethia import (\n",
    "    do_pca,\n",
    "    do_umap,\n",
    "    get_embeddings,\n",
    "    load_sentence_transformer,\n",
    "    plot_embedding,\n",
    "    setup_matplotlib,\n",
    ")\n",
    "setup_matplotlib()"
   ]
  },
  {
   "cell_type": "code",
   "execution_count": null,
   "id": "7534567d-4b3d-4a1c-bf8c-9819c77b99fc",
   "metadata": {},
   "outputs": [
    {
     "name": "stdout",
     "output_type": "stream",
     "text": [
      "Loading model Salesforce/SFR-Embedding-Mistral\n"
     ]
    },
    {
     "data": {
      "application/vnd.jupyter.widget-view+json": {
       "model_id": "0f2fe91ce76f429881335f4bf240ecaf",
       "version_major": 2,
       "version_minor": 0
      },
      "text/plain": [
       "Loading checkpoint shards:   0%|          | 0/3 [00:00<?, ?it/s]"
      ]
     },
     "metadata": {},
     "output_type": "display_data"
    }
   ],
   "source": [
    "model = load_sentence_transformer(\"Salesforce/SFR-Embedding-Mistral\")"
   ]
  },
  {
   "cell_type": "code",
   "execution_count": null,
   "id": "7bdee770",
   "metadata": {},
   "outputs": [],
   "source": [
    "df = pd.read_csv(\"../data/India_district_mappings.csv\")\n",
    "df"
   ]
  },
  {
   "cell_type": "code",
   "execution_count": null,
   "id": "01afc944",
   "metadata": {},
   "outputs": [],
   "source": [
    "india_districts = pd.read_csv(\"../data/India_all_state_districts.csv\")\n",
    "districts_to_keep = india_districts.dtname.value_counts()\n",
    "districts_to_keep = districts_to_keep[districts_to_keep < 2]\n",
    "\n",
    "reference_entries = set(india_districts[\"dtname\"])\n",
    "reference_entries = districts_to_keep.index.tolist()\n",
    "india_districts_reduced = india_districts[\n",
    "    india_districts.dtname.isin(districts_to_keep.index.tolist())\n",
    "]\n",
    "\n",
    "palette = (\n",
    "    list(sns.color_palette(\"tab20\"))\n",
    "    + list(sns.color_palette(\"Set3\", 12))\n",
    "    + list(sns.color_palette(\"Dark2\", 8))\n",
    ")\n",
    "\n",
    "palette = palette[:36]\n",
    "valid_df = india_districts_reduced[\n",
    "    india_districts_reduced[\"dtname\"].isin(reference_entries)\n",
    "].copy()\n",
    "unique_states = valid_df[\"stname\"].unique()\n",
    "color_map = dict(zip(unique_states, palette))\n",
    "labels = valid_df[\"dtname\"].tolist()\n",
    "states = valid_df[\"stname\"].tolist()"
   ]
  },
  {
   "cell_type": "code",
   "execution_count": null,
   "id": "253accb6",
   "metadata": {},
   "outputs": [],
   "source": [
    "embedding = get_embeddings(\n",
    "    texts=labels, model=model, return_labels=False, show_progress=True\n",
    ")"
   ]
  },
  {
   "cell_type": "code",
   "execution_count": null,
   "id": "97c019a3",
   "metadata": {},
   "outputs": [],
   "source": [
    "pca = do_pca(embedding)"
   ]
  },
  {
   "cell_type": "code",
   "execution_count": null,
   "id": "b3e0b289",
   "metadata": {},
   "outputs": [],
   "source": [
    "pca, exp_var = do_pca(embedding, return_expl_var=True)"
   ]
  },
  {
   "cell_type": "code",
   "execution_count": null,
   "id": "b2a3dafc",
   "metadata": {},
   "outputs": [],
   "source": [
    "umap = do_umap(embedding)"
   ]
  },
  {
   "cell_type": "code",
   "execution_count": null,
   "id": "968c8572",
   "metadata": {},
   "outputs": [],
   "source": [
    "plt.figure(figsize=(10, 8))\n",
    "plot_embedding(\n",
    "    pca, labels=states, dims=[1, 2], color_map=palette, title=\"\", explained_var=exp_var\n",
    ")"
   ]
  },
  {
   "cell_type": "code",
   "execution_count": null,
   "id": "527e5b33",
   "metadata": {},
   "outputs": [],
   "source": [
    "plt.figure(figsize=(10, 8))\n",
    "plot_embedding(umap, labels=states, dims=[1, 2], color_map=palette, title=\"\")"
   ]
  },
  {
   "cell_type": "code",
   "execution_count": null,
   "id": "371e6add-f4a2-4c2f-89fd-f546fb518c64",
   "metadata": {},
   "outputs": [],
   "source": []
  }
 ],
 "metadata": {
  "kernelspec": {
   "display_name": "Python [conda env:mamba-alethia2]",
   "language": "python",
   "name": "conda-env-mamba-alethia2-py"
  },
  "language_info": {
   "codemirror_mode": {
    "name": "ipython",
    "version": 3
   },
   "file_extension": ".py",
   "mimetype": "text/x-python",
   "name": "python",
   "nbconvert_exporter": "python",
   "pygments_lexer": "ipython3",
   "version": "3.13.3"
  },
  "widgets": {
   "application/vnd.jupyter.widget-state+json": {
    "state": {
     "058c832193934b019f85a6cce66587df": {
      "model_module": "@jupyter-widgets/base",
      "model_module_version": "2.0.0",
      "model_name": "LayoutModel",
      "state": {}
     },
     "0f2fe91ce76f429881335f4bf240ecaf": {
      "model_module": "@jupyter-widgets/controls",
      "model_module_version": "2.0.0",
      "model_name": "HBoxModel",
      "state": {
       "children": [
        "IPY_MODEL_d1b09f0a55b94bf29966f61dab5bed6f",
        "IPY_MODEL_35709529c3a1499a88c21bb38744639a",
        "IPY_MODEL_142eff2a2dcc4cfb9d346abd405b7627"
       ],
       "layout": "IPY_MODEL_75ec65bdaa9e441ca437f7f9a17871df"
      }
     },
     "12ae04b6a51449fdbaf3568fd8467796": {
      "model_module": "@jupyter-widgets/controls",
      "model_module_version": "2.0.0",
      "model_name": "HTMLStyleModel",
      "state": {
       "description_width": "",
       "font_size": null,
       "text_color": null
      }
     },
     "142eff2a2dcc4cfb9d346abd405b7627": {
      "model_module": "@jupyter-widgets/controls",
      "model_module_version": "2.0.0",
      "model_name": "HTMLModel",
      "state": {
       "layout": "IPY_MODEL_058c832193934b019f85a6cce66587df",
       "style": "IPY_MODEL_6ff413611af04da7bbeed402d742bcf0",
       "value": " 3/3 [00:02&lt;00:00,  1.07it/s]"
      }
     },
     "17636de25512431bb636cb41d9ad962e": {
      "model_module": "@jupyter-widgets/controls",
      "model_module_version": "2.0.0",
      "model_name": "ProgressStyleModel",
      "state": {
       "description_width": ""
      }
     },
     "1bc1fa53e8f646fcaef5afa0a98191d4": {
      "model_module": "@jupyter-widgets/controls",
      "model_module_version": "2.0.0",
      "model_name": "HTMLStyleModel",
      "state": {
       "description_width": "",
       "font_size": null,
       "text_color": null
      }
     },
     "2d2fad61cf9e4f65943a4a4e52f80190": {
      "model_module": "@jupyter-widgets/controls",
      "model_module_version": "2.0.0",
      "model_name": "HTMLModel",
      "state": {
       "layout": "IPY_MODEL_9599b89da7a34fb2ae74bbd015ff8ed6",
       "style": "IPY_MODEL_1bc1fa53e8f646fcaef5afa0a98191d4",
       "value": " 3/3 [00:03&lt;00:00,  1.00it/s]"
      }
     },
     "35709529c3a1499a88c21bb38744639a": {
      "model_module": "@jupyter-widgets/controls",
      "model_module_version": "2.0.0",
      "model_name": "FloatProgressModel",
      "state": {
       "bar_style": "success",
       "layout": "IPY_MODEL_9c559848aa4f4b8883d3118814704dab",
       "max": 3,
       "style": "IPY_MODEL_17636de25512431bb636cb41d9ad962e",
       "value": 3
      }
     },
     "3da928225fe341bc96a8f6b78cf45361": {
      "model_module": "@jupyter-widgets/controls",
      "model_module_version": "2.0.0",
      "model_name": "ProgressStyleModel",
      "state": {
       "description_width": ""
      }
     },
     "66d96829d422475580cedebb622acfa4": {
      "model_module": "@jupyter-widgets/base",
      "model_module_version": "2.0.0",
      "model_name": "LayoutModel",
      "state": {}
     },
     "6e843616aa1d4e059ba4eff33841d32b": {
      "model_module": "@jupyter-widgets/controls",
      "model_module_version": "2.0.0",
      "model_name": "FloatProgressModel",
      "state": {
       "bar_style": "success",
       "layout": "IPY_MODEL_bc812471958d4f439df32ab4601c0e1f",
       "max": 3,
       "style": "IPY_MODEL_3da928225fe341bc96a8f6b78cf45361",
       "value": 3
      }
     },
     "6ff413611af04da7bbeed402d742bcf0": {
      "model_module": "@jupyter-widgets/controls",
      "model_module_version": "2.0.0",
      "model_name": "HTMLStyleModel",
      "state": {
       "description_width": "",
       "font_size": null,
       "text_color": null
      }
     },
     "710bd8ee57df475f89333695b9f37aba": {
      "model_module": "@jupyter-widgets/controls",
      "model_module_version": "2.0.0",
      "model_name": "HTMLModel",
      "state": {
       "layout": "IPY_MODEL_77587ad0e22c48e49a764e5ac8f648a4",
       "style": "IPY_MODEL_a3d43db022f04bee9d3860586bc559bf",
       "value": "Loading checkpoint shards: 100%"
      }
     },
     "75ec65bdaa9e441ca437f7f9a17871df": {
      "model_module": "@jupyter-widgets/base",
      "model_module_version": "2.0.0",
      "model_name": "LayoutModel",
      "state": {}
     },
     "77587ad0e22c48e49a764e5ac8f648a4": {
      "model_module": "@jupyter-widgets/base",
      "model_module_version": "2.0.0",
      "model_name": "LayoutModel",
      "state": {}
     },
     "9599b89da7a34fb2ae74bbd015ff8ed6": {
      "model_module": "@jupyter-widgets/base",
      "model_module_version": "2.0.0",
      "model_name": "LayoutModel",
      "state": {}
     },
     "981b1a376f0a4f38a0f9f4b36c6a7e02": {
      "model_module": "@jupyter-widgets/base",
      "model_module_version": "2.0.0",
      "model_name": "LayoutModel",
      "state": {}
     },
     "9c559848aa4f4b8883d3118814704dab": {
      "model_module": "@jupyter-widgets/base",
      "model_module_version": "2.0.0",
      "model_name": "LayoutModel",
      "state": {}
     },
     "a3d43db022f04bee9d3860586bc559bf": {
      "model_module": "@jupyter-widgets/controls",
      "model_module_version": "2.0.0",
      "model_name": "HTMLStyleModel",
      "state": {
       "description_width": "",
       "font_size": null,
       "text_color": null
      }
     },
     "b51c3ca765a3470ab5494b57e1c997a8": {
      "model_module": "@jupyter-widgets/controls",
      "model_module_version": "2.0.0",
      "model_name": "HBoxModel",
      "state": {
       "children": [
        "IPY_MODEL_710bd8ee57df475f89333695b9f37aba",
        "IPY_MODEL_6e843616aa1d4e059ba4eff33841d32b",
        "IPY_MODEL_2d2fad61cf9e4f65943a4a4e52f80190"
       ],
       "layout": "IPY_MODEL_66d96829d422475580cedebb622acfa4"
      }
     },
     "bc812471958d4f439df32ab4601c0e1f": {
      "model_module": "@jupyter-widgets/base",
      "model_module_version": "2.0.0",
      "model_name": "LayoutModel",
      "state": {}
     },
     "d1b09f0a55b94bf29966f61dab5bed6f": {
      "model_module": "@jupyter-widgets/controls",
      "model_module_version": "2.0.0",
      "model_name": "HTMLModel",
      "state": {
       "layout": "IPY_MODEL_981b1a376f0a4f38a0f9f4b36c6a7e02",
       "style": "IPY_MODEL_12ae04b6a51449fdbaf3568fd8467796",
       "value": "Loading checkpoint shards: 100%"
      }
     }
    },
    "version_major": 2,
    "version_minor": 0
   }
  }
 },
 "nbformat": 4,
 "nbformat_minor": 5
}
