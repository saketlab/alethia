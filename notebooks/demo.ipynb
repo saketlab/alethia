{
 "cells": [
  {
   "cell_type": "code",
   "execution_count": 1,
   "id": "ae14cbff",
   "metadata": {},
   "outputs": [],
   "source": [
    "import pandas as pd\n",
    "\n",
    "from alethia import alethia"
   ]
  },
  {
   "cell_type": "code",
   "execution_count": 2,
   "id": "dbc7ca29-cce7-4e7d-b98c-95a684fb7a4a",
   "metadata": {},
   "outputs": [
    {
     "data": {
      "text/html": [
       "<div>\n",
       "<style scoped>\n",
       "    .dataframe tbody tr th:only-of-type {\n",
       "        vertical-align: middle;\n",
       "    }\n",
       "\n",
       "    .dataframe tbody tr th {\n",
       "        vertical-align: top;\n",
       "    }\n",
       "\n",
       "    .dataframe thead th {\n",
       "        text-align: right;\n",
       "    }\n",
       "</style>\n",
       "<table border=\"1\" class=\"dataframe\">\n",
       "  <thead>\n",
       "    <tr style=\"text-align: right;\">\n",
       "      <th></th>\n",
       "      <th>State</th>\n",
       "      <th>1951</th>\n",
       "      <th>1961</th>\n",
       "      <th>1971</th>\n",
       "      <th>1981</th>\n",
       "      <th>1991</th>\n",
       "      <th>2001</th>\n",
       "    </tr>\n",
       "  </thead>\n",
       "  <tbody>\n",
       "    <tr>\n",
       "      <th>0</th>\n",
       "      <td>Andaman and Nicobar Islands</td>\n",
       "      <td>Andaman and Nicobar</td>\n",
       "      <td>Andaman and Nicobar Islands</td>\n",
       "      <td>Andaman and Nicobar Islands</td>\n",
       "      <td>Andaman and Nicobar Islands</td>\n",
       "      <td>Andaman and Nicobar Islands</td>\n",
       "      <td>Andaman and Nicobar Islands</td>\n",
       "    </tr>\n",
       "    <tr>\n",
       "      <th>1</th>\n",
       "      <td>Andaman and Nicobar Islands</td>\n",
       "      <td>Andaman and Nicobar</td>\n",
       "      <td>Andaman and Nicobar Islands</td>\n",
       "      <td>Andaman and Nicobar Islands</td>\n",
       "      <td>Andaman</td>\n",
       "      <td>Andaman</td>\n",
       "      <td>Andaman</td>\n",
       "    </tr>\n",
       "    <tr>\n",
       "      <th>2</th>\n",
       "      <td>Andaman and Nicobar Islands</td>\n",
       "      <td>Andaman and Nicobar</td>\n",
       "      <td>Andaman and Nicobar Islands</td>\n",
       "      <td>Andaman and Nicobar Islands</td>\n",
       "      <td>Nicobar</td>\n",
       "      <td>Nicobar</td>\n",
       "      <td>Nicobar</td>\n",
       "    </tr>\n",
       "    <tr>\n",
       "      <th>3</th>\n",
       "      <td>Andhra Pradesh</td>\n",
       "      <td>Srikakulam</td>\n",
       "      <td>Srikakulam</td>\n",
       "      <td>Srikakulam</td>\n",
       "      <td>Srikakulam</td>\n",
       "      <td>Srikakulam</td>\n",
       "      <td>Srikakulam</td>\n",
       "    </tr>\n",
       "    <tr>\n",
       "      <th>4</th>\n",
       "      <td>Andhra Pradesh</td>\n",
       "      <td>Srikakulam</td>\n",
       "      <td>Srikakulam</td>\n",
       "      <td>Srikakulam</td>\n",
       "      <td>Vizianagaram</td>\n",
       "      <td>Vizianagaram</td>\n",
       "      <td>Vizianagaram</td>\n",
       "    </tr>\n",
       "    <tr>\n",
       "      <th>...</th>\n",
       "      <td>...</td>\n",
       "      <td>...</td>\n",
       "      <td>...</td>\n",
       "      <td>...</td>\n",
       "      <td>...</td>\n",
       "      <td>...</td>\n",
       "      <td>...</td>\n",
       "    </tr>\n",
       "    <tr>\n",
       "      <th>631</th>\n",
       "      <td>West Bengal</td>\n",
       "      <td>Burdwan</td>\n",
       "      <td>Burdwan</td>\n",
       "      <td>Burdwan</td>\n",
       "      <td>Burdwan</td>\n",
       "      <td>Burdwan</td>\n",
       "      <td>Burdwan</td>\n",
       "    </tr>\n",
       "    <tr>\n",
       "      <th>632</th>\n",
       "      <td>West Bengal</td>\n",
       "      <td>Birbhum</td>\n",
       "      <td>Birbhum</td>\n",
       "      <td>Birbhum</td>\n",
       "      <td>Birbhum</td>\n",
       "      <td>Birbhum</td>\n",
       "      <td>Birbhum</td>\n",
       "    </tr>\n",
       "    <tr>\n",
       "      <th>633</th>\n",
       "      <td>West Bengal</td>\n",
       "      <td>Bankura</td>\n",
       "      <td>Bankura</td>\n",
       "      <td>Bankura</td>\n",
       "      <td>Bankura</td>\n",
       "      <td>Bankura</td>\n",
       "      <td>Bankura</td>\n",
       "    </tr>\n",
       "    <tr>\n",
       "      <th>634</th>\n",
       "      <td>West Bengal</td>\n",
       "      <td>Midnapur</td>\n",
       "      <td>Midnapore</td>\n",
       "      <td>Midnapore</td>\n",
       "      <td>Midnapore</td>\n",
       "      <td>Midnapore</td>\n",
       "      <td>Midnapore</td>\n",
       "    </tr>\n",
       "    <tr>\n",
       "      <th>635</th>\n",
       "      <td>West Bengal</td>\n",
       "      <td>Purulia</td>\n",
       "      <td>Puralia</td>\n",
       "      <td>Puralia</td>\n",
       "      <td>Puralia</td>\n",
       "      <td>Puralia</td>\n",
       "      <td>Puralia</td>\n",
       "    </tr>\n",
       "  </tbody>\n",
       "</table>\n",
       "<p>636 rows × 7 columns</p>\n",
       "</div>"
      ],
      "text/plain": [
       "                           State                 1951  \\\n",
       "0    Andaman and Nicobar Islands  Andaman and Nicobar   \n",
       "1    Andaman and Nicobar Islands  Andaman and Nicobar   \n",
       "2    Andaman and Nicobar Islands  Andaman and Nicobar   \n",
       "3                 Andhra Pradesh           Srikakulam   \n",
       "4                 Andhra Pradesh           Srikakulam   \n",
       "..                           ...                  ...   \n",
       "631                  West Bengal              Burdwan   \n",
       "632                  West Bengal              Birbhum   \n",
       "633                  West Bengal              Bankura   \n",
       "634                  West Bengal             Midnapur   \n",
       "635                  West Bengal              Purulia   \n",
       "\n",
       "                            1961                         1971  \\\n",
       "0    Andaman and Nicobar Islands  Andaman and Nicobar Islands   \n",
       "1    Andaman and Nicobar Islands  Andaman and Nicobar Islands   \n",
       "2    Andaman and Nicobar Islands  Andaman and Nicobar Islands   \n",
       "3                     Srikakulam                   Srikakulam   \n",
       "4                     Srikakulam                   Srikakulam   \n",
       "..                           ...                          ...   \n",
       "631                      Burdwan                      Burdwan   \n",
       "632                      Birbhum                      Birbhum   \n",
       "633                      Bankura                      Bankura   \n",
       "634                    Midnapore                    Midnapore   \n",
       "635                      Puralia                      Puralia   \n",
       "\n",
       "                            1981                         1991  \\\n",
       "0    Andaman and Nicobar Islands  Andaman and Nicobar Islands   \n",
       "1                        Andaman                      Andaman   \n",
       "2                        Nicobar                      Nicobar   \n",
       "3                     Srikakulam                   Srikakulam   \n",
       "4                   Vizianagaram                 Vizianagaram   \n",
       "..                           ...                          ...   \n",
       "631                      Burdwan                      Burdwan   \n",
       "632                      Birbhum                      Birbhum   \n",
       "633                      Bankura                      Bankura   \n",
       "634                    Midnapore                    Midnapore   \n",
       "635                      Puralia                      Puralia   \n",
       "\n",
       "                            2001  \n",
       "0    Andaman and Nicobar Islands  \n",
       "1                        Andaman  \n",
       "2                        Nicobar  \n",
       "3                     Srikakulam  \n",
       "4                   Vizianagaram  \n",
       "..                           ...  \n",
       "631                      Burdwan  \n",
       "632                      Birbhum  \n",
       "633                      Bankura  \n",
       "634                    Midnapore  \n",
       "635                      Puralia  \n",
       "\n",
       "[636 rows x 7 columns]"
      ]
     },
     "execution_count": 2,
     "metadata": {},
     "output_type": "execute_result"
    }
   ],
   "source": [
    "df = pd.read_csv(\"../data/India_district_mappings.csv\")\n",
    "df"
   ]
  },
  {
   "cell_type": "code",
   "execution_count": 3,
   "id": "70f0054a",
   "metadata": {},
   "outputs": [],
   "source": [
    "target_list = list(df[\"2001\"])\n",
    "correct_entries = target_list\n",
    "reference_entries = [x for x in list(set(target_list)) if str(x) != \"nan\"]"
   ]
  },
  {
   "cell_type": "code",
   "execution_count": null,
   "id": "bd9887aa",
   "metadata": {},
   "outputs": [
    {
     "name": "stdout",
     "output_type": "stream",
     "text": [
      "Initializing model Salesforce/SFR-Embedding-Mistral\n",
      "Loading model Salesforce/SFR-Embedding-Mistral\n"
     ]
    },
    {
     "data": {
      "application/vnd.jupyter.widget-view+json": {
       "model_id": "b42646dafc1b4c43bd8999438872faee",
       "version_major": 2,
       "version_minor": 0
      },
      "text/plain": [
       "Loading checkpoint shards:   0%|          | 0/3 [00:00<?, ?it/s]"
      ]
     },
     "metadata": {},
     "output_type": "display_data"
    },
    {
     "name": "stderr",
     "output_type": "stream",
     "text": [
      "GPU memory error: CUDA out of memory. Tried to allocate 224.00 MiB. GPU 0 has a total capacity of 47.41 GiB of which 259.12 MiB is free. Process 1145165 has 18.97 GiB memory in use. Including non-PyTorch memory, this process has 25.71 GiB memory in use. Of the allocated memory 25.46 GiB is allocated by PyTorch, and 1.06 MiB is reserved by PyTorch but unallocated. If reserved but unallocated memory is large try setting PYTORCH_CUDA_ALLOC_CONF=expandable_segments:True to avoid fragmentation.  See documentation for Memory Management  (https://pytorch.org/docs/stable/notes/cuda.html#environment-variables)\n",
      "Trying to load model on CPU instead...\n"
     ]
    },
    {
     "data": {
      "application/vnd.jupyter.widget-view+json": {
       "model_id": "83730cb28bb44b6396f34e1dff173916",
       "version_major": 2,
       "version_minor": 0
      },
      "text/plain": [
       "Loading checkpoint shards:   0%|          | 0/3 [00:00<?, ?it/s]"
      ]
     },
     "metadata": {},
     "output_type": "display_data"
    },
    {
     "name": "stderr",
     "output_type": "stream",
     "text": [
      "Successfully loaded model Salesforce/SFR-Embedding-Mistral on CPU\n"
     ]
    },
    {
     "name": "stdout",
     "output_type": "stream",
     "text": [
      "Initial resource usage:\n",
      "CPU Usage: 4.3%\n",
      "RAM Usage: 20.3%\n",
      "GPU: NVIDIA RTX A6000\n",
      "GPU Memory Usage: 0.00GB / 47.41GB\n",
      "Computing reference embeddings for 584 entries...\n"
     ]
    }
   ],
   "source": [
    "col = \"1951\"\n",
    "incorrect_entries = df[col].tolist()\n",
    "alethia_output = alethia(incorrect_entries, reference_entries)"
   ]
  },
  {
   "cell_type": "code",
   "execution_count": null,
   "id": "5dfab9d7",
   "metadata": {},
   "outputs": [],
   "source": [
    "alethia_output[alethia_output.given_entity != alethia_output.alethia_prediction]"
   ]
  },
  {
   "cell_type": "markdown",
   "id": "88ad565d",
   "metadata": {},
   "source": [
    "# Plotting examples"
   ]
  },
  {
   "cell_type": "code",
   "execution_count": null,
   "id": "dd81558e",
   "metadata": {},
   "outputs": [],
   "source": [
    "import matplotlib.pyplot as plt\n",
    "import seaborn as sns\n",
    "\n",
    "%matplotlib inline\n",
    "\n",
    "from alethia import (\n",
    "    do_pca,\n",
    "    do_umap,\n",
    "    get_embeddings,\n",
    "    load_sentence_transformer,\n",
    "    plot_embedding,\n",
    "    setup_matplotlib,\n",
    ")\n",
    "setup_matplotlib()"
   ]
  },
  {
   "cell_type": "code",
   "execution_count": null,
   "id": "7534567d-4b3d-4a1c-bf8c-9819c77b99fc",
   "metadata": {},
   "outputs": [],
   "source": [
    "model = load_sentence_transformer(\"Salesforce/SFR-Embedding-Mistral\")"
   ]
  },
  {
   "cell_type": "code",
   "execution_count": null,
   "id": "7bdee770",
   "metadata": {},
   "outputs": [],
   "source": [
    "df = pd.read_csv(\"../data/India_district_mappings.csv\")\n",
    "df"
   ]
  },
  {
   "cell_type": "code",
   "execution_count": null,
   "id": "01afc944",
   "metadata": {},
   "outputs": [],
   "source": [
    "india_districts = pd.read_csv(\"../data/India_all_state_districts.csv\")\n",
    "districts_to_keep = india_districts.dtname.value_counts()\n",
    "districts_to_keep = districts_to_keep[districts_to_keep < 2]\n",
    "\n",
    "reference_entries = set(india_districts[\"dtname\"])\n",
    "reference_entries = districts_to_keep.index.tolist()\n",
    "india_districts_reduced = india_districts[\n",
    "    india_districts.dtname.isin(districts_to_keep.index.tolist())\n",
    "]\n",
    "\n",
    "palette = (\n",
    "    list(sns.color_palette(\"tab20\"))\n",
    "    + list(sns.color_palette(\"Set3\", 12))\n",
    "    + list(sns.color_palette(\"Dark2\", 8))\n",
    ")\n",
    "\n",
    "palette = palette[:36]\n",
    "valid_df = india_districts_reduced[\n",
    "    india_districts_reduced[\"dtname\"].isin(reference_entries)\n",
    "].copy()\n",
    "unique_states = valid_df[\"stname\"].unique()\n",
    "color_map = dict(zip(unique_states, palette))\n",
    "labels = valid_df[\"dtname\"].tolist()\n",
    "states = valid_df[\"stname\"].tolist()"
   ]
  },
  {
   "cell_type": "code",
   "execution_count": null,
   "id": "253accb6",
   "metadata": {},
   "outputs": [],
   "source": [
    "embedding = get_embeddings(\n",
    "    texts=labels, model=model, return_labels=False, show_progress=True\n",
    ")"
   ]
  },
  {
   "cell_type": "code",
   "execution_count": null,
   "id": "97c019a3",
   "metadata": {},
   "outputs": [],
   "source": [
    "pca = do_pca(embedding)"
   ]
  },
  {
   "cell_type": "code",
   "execution_count": null,
   "id": "b3e0b289",
   "metadata": {},
   "outputs": [],
   "source": [
    "pca, exp_var = do_pca(embedding, return_expl_var=True)"
   ]
  },
  {
   "cell_type": "code",
   "execution_count": null,
   "id": "b2a3dafc",
   "metadata": {},
   "outputs": [],
   "source": [
    "umap = do_umap(embedding)"
   ]
  },
  {
   "cell_type": "code",
   "execution_count": null,
   "id": "968c8572",
   "metadata": {},
   "outputs": [],
   "source": [
    "plt.figure(figsize=(10, 8))\n",
    "plot_embedding(\n",
    "    pca, labels=states, dims=[1, 2], color_map=palette, title=\"\", explained_var=exp_var\n",
    ")"
   ]
  },
  {
   "cell_type": "code",
   "execution_count": null,
   "id": "527e5b33",
   "metadata": {},
   "outputs": [],
   "source": [
    "plt.figure(figsize=(10, 8))\n",
    "plot_embedding(umap, labels=states, dims=[1, 2], color_map=palette, title=\"\")"
   ]
  },
  {
   "cell_type": "code",
   "execution_count": null,
   "id": "371e6add-f4a2-4c2f-89fd-f546fb518c64",
   "metadata": {},
   "outputs": [],
   "source": []
  }
 ],
 "metadata": {
  "kernelspec": {
   "display_name": "Python [conda env:mamba-alethia2]",
   "language": "python",
   "name": "conda-env-mamba-alethia2-py"
  },
  "language_info": {
   "codemirror_mode": {
    "name": "ipython",
    "version": 3
   },
   "file_extension": ".py",
   "mimetype": "text/x-python",
   "name": "python",
   "nbconvert_exporter": "python",
   "pygments_lexer": "ipython3",
   "version": "3.13.3"
  },
  "widgets": {
   "application/vnd.jupyter.widget-state+json": {
    "state": {
     "0ef1a9ef20b24120a6289b3f785529b5": {
      "model_module": "@jupyter-widgets/controls",
      "model_module_version": "2.0.0",
      "model_name": "HTMLStyleModel",
      "state": {
       "description_width": "",
       "font_size": null,
       "text_color": null
      }
     },
     "1d1215541dd14e289385a579e605883a": {
      "model_module": "@jupyter-widgets/controls",
      "model_module_version": "2.0.0",
      "model_name": "HTMLModel",
      "state": {
       "layout": "IPY_MODEL_9359011843fe45c090adda9aa2a52253",
       "style": "IPY_MODEL_0ef1a9ef20b24120a6289b3f785529b5",
       "value": "Loading checkpoint shards: 100%"
      }
     },
     "3077eb2fc1f542b48072b2e361006e6b": {
      "model_module": "@jupyter-widgets/base",
      "model_module_version": "2.0.0",
      "model_name": "LayoutModel",
      "state": {}
     },
     "337314c0530448f38c51ebcd125ea953": {
      "model_module": "@jupyter-widgets/controls",
      "model_module_version": "2.0.0",
      "model_name": "FloatProgressModel",
      "state": {
       "bar_style": "success",
       "layout": "IPY_MODEL_e553b7a4d66d41cbb90f1e41a86741b6",
       "max": 3,
       "style": "IPY_MODEL_8e44865889104f73898feb718b7c71d7",
       "value": 3
      }
     },
     "37a83e5ecae6479e803974c02a2f02a4": {
      "model_module": "@jupyter-widgets/base",
      "model_module_version": "2.0.0",
      "model_name": "LayoutModel",
      "state": {}
     },
     "38dcb707f2be459f8edde9573b6a0243": {
      "model_module": "@jupyter-widgets/controls",
      "model_module_version": "2.0.0",
      "model_name": "FloatProgressModel",
      "state": {
       "bar_style": "success",
       "layout": "IPY_MODEL_37a83e5ecae6479e803974c02a2f02a4",
       "max": 3,
       "style": "IPY_MODEL_8c6681f0e1054abb8cf3358b89afc621",
       "value": 3
      }
     },
     "4afd71befdab4320967f161ef629b38b": {
      "model_module": "@jupyter-widgets/base",
      "model_module_version": "2.0.0",
      "model_name": "LayoutModel",
      "state": {}
     },
     "66acf4ec67ea4503b501a3893c9cc64f": {
      "model_module": "@jupyter-widgets/controls",
      "model_module_version": "2.0.0",
      "model_name": "HTMLModel",
      "state": {
       "layout": "IPY_MODEL_db3b0e39a03f44d8b6a03cc9dd752915",
       "style": "IPY_MODEL_be7bb36d689b4439aa8906b83e6d6231",
       "value": " 3/3 [00:02&lt;00:00,  1.11it/s]"
      }
     },
     "7338a0fb2587477aac934bdea5bfde16": {
      "model_module": "@jupyter-widgets/base",
      "model_module_version": "2.0.0",
      "model_name": "LayoutModel",
      "state": {}
     },
     "740c5c56ad684bb4a9ff586eae2f7b74": {
      "model_module": "@jupyter-widgets/controls",
      "model_module_version": "2.0.0",
      "model_name": "HTMLModel",
      "state": {
       "layout": "IPY_MODEL_f79fa09ef73e485b8f4f6e2a03809e21",
       "style": "IPY_MODEL_8ad1b1b53ba542d5abffdbea347359b0",
       "value": "Loading checkpoint shards: 100%"
      }
     },
     "83730cb28bb44b6396f34e1dff173916": {
      "model_module": "@jupyter-widgets/controls",
      "model_module_version": "2.0.0",
      "model_name": "HBoxModel",
      "state": {
       "children": [
        "IPY_MODEL_740c5c56ad684bb4a9ff586eae2f7b74",
        "IPY_MODEL_337314c0530448f38c51ebcd125ea953",
        "IPY_MODEL_66acf4ec67ea4503b501a3893c9cc64f"
       ],
       "layout": "IPY_MODEL_7338a0fb2587477aac934bdea5bfde16"
      }
     },
     "8ad1b1b53ba542d5abffdbea347359b0": {
      "model_module": "@jupyter-widgets/controls",
      "model_module_version": "2.0.0",
      "model_name": "HTMLStyleModel",
      "state": {
       "description_width": "",
       "font_size": null,
       "text_color": null
      }
     },
     "8c6681f0e1054abb8cf3358b89afc621": {
      "model_module": "@jupyter-widgets/controls",
      "model_module_version": "2.0.0",
      "model_name": "ProgressStyleModel",
      "state": {
       "description_width": ""
      }
     },
     "8e44865889104f73898feb718b7c71d7": {
      "model_module": "@jupyter-widgets/controls",
      "model_module_version": "2.0.0",
      "model_name": "ProgressStyleModel",
      "state": {
       "description_width": ""
      }
     },
     "9359011843fe45c090adda9aa2a52253": {
      "model_module": "@jupyter-widgets/base",
      "model_module_version": "2.0.0",
      "model_name": "LayoutModel",
      "state": {}
     },
     "a86284b0af74413287dee3f7575e348d": {
      "model_module": "@jupyter-widgets/controls",
      "model_module_version": "2.0.0",
      "model_name": "HTMLModel",
      "state": {
       "layout": "IPY_MODEL_3077eb2fc1f542b48072b2e361006e6b",
       "style": "IPY_MODEL_be2e9e3733254e40bf1bea5ec2d6aa9f",
       "value": " 3/3 [00:03&lt;00:00,  1.07s/it]"
      }
     },
     "b42646dafc1b4c43bd8999438872faee": {
      "model_module": "@jupyter-widgets/controls",
      "model_module_version": "2.0.0",
      "model_name": "HBoxModel",
      "state": {
       "children": [
        "IPY_MODEL_1d1215541dd14e289385a579e605883a",
        "IPY_MODEL_38dcb707f2be459f8edde9573b6a0243",
        "IPY_MODEL_a86284b0af74413287dee3f7575e348d"
       ],
       "layout": "IPY_MODEL_4afd71befdab4320967f161ef629b38b"
      }
     },
     "be2e9e3733254e40bf1bea5ec2d6aa9f": {
      "model_module": "@jupyter-widgets/controls",
      "model_module_version": "2.0.0",
      "model_name": "HTMLStyleModel",
      "state": {
       "description_width": "",
       "font_size": null,
       "text_color": null
      }
     },
     "be7bb36d689b4439aa8906b83e6d6231": {
      "model_module": "@jupyter-widgets/controls",
      "model_module_version": "2.0.0",
      "model_name": "HTMLStyleModel",
      "state": {
       "description_width": "",
       "font_size": null,
       "text_color": null
      }
     },
     "db3b0e39a03f44d8b6a03cc9dd752915": {
      "model_module": "@jupyter-widgets/base",
      "model_module_version": "2.0.0",
      "model_name": "LayoutModel",
      "state": {}
     },
     "e553b7a4d66d41cbb90f1e41a86741b6": {
      "model_module": "@jupyter-widgets/base",
      "model_module_version": "2.0.0",
      "model_name": "LayoutModel",
      "state": {}
     },
     "f79fa09ef73e485b8f4f6e2a03809e21": {
      "model_module": "@jupyter-widgets/base",
      "model_module_version": "2.0.0",
      "model_name": "LayoutModel",
      "state": {}
     }
    },
    "version_major": 2,
    "version_minor": 0
   }
  }
 },
 "nbformat": 4,
 "nbformat_minor": 5
}
