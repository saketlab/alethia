{
 "cells": [
  {
   "cell_type": "code",
   "execution_count": 1,
   "id": "5240675b",
   "metadata": {},
   "outputs": [],
   "source": [
    "from alethia import (\n",
    "    alethia,\n",
    "    get_embeddings,\n",
    "    load_sentence_transformer,\n",
    "    do_pca,\n",
    "    plot_embedding,\n",
    "    setup_matplotlib\n",
    ")\n",
    "import matplotlib.pyplot as plt\n",
    "import seaborn as sns\n",
    "\n",
    "import pandas as pd\n",
    "\n",
    "%matplotlib inline\n",
    "setup_matplotlib()"
   ]
  },
  {
   "cell_type": "code",
   "execution_count": 2,
   "id": "f8f295f3",
   "metadata": {
    "scrolled": true
   },
   "outputs": [
    {
     "data": {
      "text/html": [
       "<div>\n",
       "<style scoped>\n",
       "    .dataframe tbody tr th:only-of-type {\n",
       "        vertical-align: middle;\n",
       "    }\n",
       "\n",
       "    .dataframe tbody tr th {\n",
       "        vertical-align: top;\n",
       "    }\n",
       "\n",
       "    .dataframe thead th {\n",
       "        text-align: right;\n",
       "    }\n",
       "</style>\n",
       "<table border=\"1\" class=\"dataframe\">\n",
       "  <thead>\n",
       "    <tr style=\"text-align: right;\">\n",
       "      <th></th>\n",
       "      <th>State</th>\n",
       "      <th>1951</th>\n",
       "      <th>1961</th>\n",
       "      <th>1971</th>\n",
       "      <th>1981</th>\n",
       "      <th>1991</th>\n",
       "      <th>2001</th>\n",
       "    </tr>\n",
       "  </thead>\n",
       "  <tbody>\n",
       "    <tr>\n",
       "      <th>0</th>\n",
       "      <td>Andaman and Nicobar Islands</td>\n",
       "      <td>Andaman and Nicobar</td>\n",
       "      <td>Andaman and Nicobar Islands</td>\n",
       "      <td>Andaman and Nicobar Islands</td>\n",
       "      <td>Andaman and Nicobar Islands</td>\n",
       "      <td>Andaman and Nicobar Islands</td>\n",
       "      <td>Andaman and Nicobar Islands</td>\n",
       "    </tr>\n",
       "    <tr>\n",
       "      <th>1</th>\n",
       "      <td>Andaman and Nicobar Islands</td>\n",
       "      <td>Andaman and Nicobar</td>\n",
       "      <td>Andaman and Nicobar Islands</td>\n",
       "      <td>Andaman and Nicobar Islands</td>\n",
       "      <td>Andaman</td>\n",
       "      <td>Andaman</td>\n",
       "      <td>Andaman</td>\n",
       "    </tr>\n",
       "    <tr>\n",
       "      <th>2</th>\n",
       "      <td>Andaman and Nicobar Islands</td>\n",
       "      <td>Andaman and Nicobar</td>\n",
       "      <td>Andaman and Nicobar Islands</td>\n",
       "      <td>Andaman and Nicobar Islands</td>\n",
       "      <td>Nicobar</td>\n",
       "      <td>Nicobar</td>\n",
       "      <td>Nicobar</td>\n",
       "    </tr>\n",
       "    <tr>\n",
       "      <th>3</th>\n",
       "      <td>Andhra Pradesh</td>\n",
       "      <td>Srikakulam</td>\n",
       "      <td>Srikakulam</td>\n",
       "      <td>Srikakulam</td>\n",
       "      <td>Srikakulam</td>\n",
       "      <td>Srikakulam</td>\n",
       "      <td>Srikakulam</td>\n",
       "    </tr>\n",
       "    <tr>\n",
       "      <th>4</th>\n",
       "      <td>Andhra Pradesh</td>\n",
       "      <td>Srikakulam</td>\n",
       "      <td>Srikakulam</td>\n",
       "      <td>Srikakulam</td>\n",
       "      <td>Vizianagaram</td>\n",
       "      <td>Vizianagaram</td>\n",
       "      <td>Vizianagaram</td>\n",
       "    </tr>\n",
       "    <tr>\n",
       "      <th>...</th>\n",
       "      <td>...</td>\n",
       "      <td>...</td>\n",
       "      <td>...</td>\n",
       "      <td>...</td>\n",
       "      <td>...</td>\n",
       "      <td>...</td>\n",
       "      <td>...</td>\n",
       "    </tr>\n",
       "    <tr>\n",
       "      <th>631</th>\n",
       "      <td>West Bengal</td>\n",
       "      <td>Burdwan</td>\n",
       "      <td>Burdwan</td>\n",
       "      <td>Burdwan</td>\n",
       "      <td>Burdwan</td>\n",
       "      <td>Burdwan</td>\n",
       "      <td>Burdwan</td>\n",
       "    </tr>\n",
       "    <tr>\n",
       "      <th>632</th>\n",
       "      <td>West Bengal</td>\n",
       "      <td>Birbhum</td>\n",
       "      <td>Birbhum</td>\n",
       "      <td>Birbhum</td>\n",
       "      <td>Birbhum</td>\n",
       "      <td>Birbhum</td>\n",
       "      <td>Birbhum</td>\n",
       "    </tr>\n",
       "    <tr>\n",
       "      <th>633</th>\n",
       "      <td>West Bengal</td>\n",
       "      <td>Bankura</td>\n",
       "      <td>Bankura</td>\n",
       "      <td>Bankura</td>\n",
       "      <td>Bankura</td>\n",
       "      <td>Bankura</td>\n",
       "      <td>Bankura</td>\n",
       "    </tr>\n",
       "    <tr>\n",
       "      <th>634</th>\n",
       "      <td>West Bengal</td>\n",
       "      <td>Midnapur</td>\n",
       "      <td>Midnapore</td>\n",
       "      <td>Midnapore</td>\n",
       "      <td>Midnapore</td>\n",
       "      <td>Midnapore</td>\n",
       "      <td>Midnapore</td>\n",
       "    </tr>\n",
       "    <tr>\n",
       "      <th>635</th>\n",
       "      <td>West Bengal</td>\n",
       "      <td>Purulia</td>\n",
       "      <td>Puralia</td>\n",
       "      <td>Puralia</td>\n",
       "      <td>Puralia</td>\n",
       "      <td>Puralia</td>\n",
       "      <td>Puralia</td>\n",
       "    </tr>\n",
       "  </tbody>\n",
       "</table>\n",
       "<p>636 rows × 7 columns</p>\n",
       "</div>"
      ],
      "text/plain": [
       "                           State                 1951  \\\n",
       "0    Andaman and Nicobar Islands  Andaman and Nicobar   \n",
       "1    Andaman and Nicobar Islands  Andaman and Nicobar   \n",
       "2    Andaman and Nicobar Islands  Andaman and Nicobar   \n",
       "3                 Andhra Pradesh           Srikakulam   \n",
       "4                 Andhra Pradesh           Srikakulam   \n",
       "..                           ...                  ...   \n",
       "631                  West Bengal              Burdwan   \n",
       "632                  West Bengal              Birbhum   \n",
       "633                  West Bengal              Bankura   \n",
       "634                  West Bengal             Midnapur   \n",
       "635                  West Bengal              Purulia   \n",
       "\n",
       "                            1961                         1971  \\\n",
       "0    Andaman and Nicobar Islands  Andaman and Nicobar Islands   \n",
       "1    Andaman and Nicobar Islands  Andaman and Nicobar Islands   \n",
       "2    Andaman and Nicobar Islands  Andaman and Nicobar Islands   \n",
       "3                     Srikakulam                   Srikakulam   \n",
       "4                     Srikakulam                   Srikakulam   \n",
       "..                           ...                          ...   \n",
       "631                      Burdwan                      Burdwan   \n",
       "632                      Birbhum                      Birbhum   \n",
       "633                      Bankura                      Bankura   \n",
       "634                    Midnapore                    Midnapore   \n",
       "635                      Puralia                      Puralia   \n",
       "\n",
       "                            1981                         1991  \\\n",
       "0    Andaman and Nicobar Islands  Andaman and Nicobar Islands   \n",
       "1                        Andaman                      Andaman   \n",
       "2                        Nicobar                      Nicobar   \n",
       "3                     Srikakulam                   Srikakulam   \n",
       "4                   Vizianagaram                 Vizianagaram   \n",
       "..                           ...                          ...   \n",
       "631                      Burdwan                      Burdwan   \n",
       "632                      Birbhum                      Birbhum   \n",
       "633                      Bankura                      Bankura   \n",
       "634                    Midnapore                    Midnapore   \n",
       "635                      Puralia                      Puralia   \n",
       "\n",
       "                            2001  \n",
       "0    Andaman and Nicobar Islands  \n",
       "1                        Andaman  \n",
       "2                        Nicobar  \n",
       "3                     Srikakulam  \n",
       "4                   Vizianagaram  \n",
       "..                           ...  \n",
       "631                      Burdwan  \n",
       "632                      Birbhum  \n",
       "633                      Bankura  \n",
       "634                    Midnapore  \n",
       "635                      Puralia  \n",
       "\n",
       "[636 rows x 7 columns]"
      ]
     },
     "execution_count": 2,
     "metadata": {},
     "output_type": "execute_result"
    }
   ],
   "source": [
    "df = pd.read_csv(\"../data/India_district_mappings.csv\")\n",
    "df"
   ]
  },
  {
   "cell_type": "markdown",
   "id": "721a263c-3aa2-4e4d-a311-365f1527a7fd",
   "metadata": {},
   "source": [
    "# Model 1"
   ]
  },
  {
   "cell_type": "code",
   "execution_count": null,
   "id": "28b9c7d9",
   "metadata": {},
   "outputs": [
    {
     "name": "stdout",
     "output_type": "stream",
     "text": [
      "Loading model Salesforce/SFR-Embedding-Mistral\n"
     ]
    },
    {
     "data": {
      "application/vnd.jupyter.widget-view+json": {
       "model_id": "9b20831cf4b249ec833d60b8629cbbcf",
       "version_major": 2,
       "version_minor": 0
      },
      "text/plain": [
       "Loading checkpoint shards:   0%|          | 0/3 [00:00<?, ?it/s]"
      ]
     },
     "metadata": {},
     "output_type": "display_data"
    },
    {
     "name": "stderr",
     "output_type": "stream",
     "text": [
      "GPU memory error: CUDA out of memory. Tried to allocate 224.00 MiB. GPU 0 has a total capacity of 47.41 GiB of which 237.12 MiB is free. Process 1148169 has 25.71 GiB memory in use. Including non-PyTorch memory, this process has 18.99 GiB memory in use. Of the allocated memory 18.74 GiB is allocated by PyTorch, and 1.31 MiB is reserved by PyTorch but unallocated. If reserved but unallocated memory is large try setting PYTORCH_CUDA_ALLOC_CONF=expandable_segments:True to avoid fragmentation.  See documentation for Memory Management  (https://pytorch.org/docs/stable/notes/cuda.html#environment-variables)\n",
      "Trying to load model on CPU instead...\n"
     ]
    },
    {
     "data": {
      "application/vnd.jupyter.widget-view+json": {
       "model_id": "d89261ab877d4b9eac7478cd5adab48e",
       "version_major": 2,
       "version_minor": 0
      },
      "text/plain": [
       "Loading checkpoint shards:   0%|          | 0/3 [00:00<?, ?it/s]"
      ]
     },
     "metadata": {},
     "output_type": "display_data"
    },
    {
     "name": "stderr",
     "output_type": "stream",
     "text": [
      "Successfully loaded model Salesforce/SFR-Embedding-Mistral on CPU\n",
      "Generating Embeddings:  21%|████▎                | 6/29 [00:29<01:56,  5.08s/it]"
     ]
    }
   ],
   "source": [
    "model = load_sentence_transformer(\"Salesforce/SFR-Embedding-Mistral\")\n",
    "embeddings = get_embeddings(\n",
    "    df[\"State\"].unique().tolist(), model=model, show_progress=True\n",
    ")\n",
    "pca = do_pca(embeddings, n_components=2)"
   ]
  },
  {
   "cell_type": "code",
   "execution_count": null,
   "id": "cc631bd5",
   "metadata": {},
   "outputs": [],
   "source": [
    "plt.figure(figsize=(13, 8))\n",
    "\n",
    "plot_embedding(\n",
    "    X=pca[0],\n",
    "    labels=df[\"State\"].unique().tolist(),\n",
    "    title=\"PCA of Indian States\",\n",
    "    explained_var=pca[1],\n",
    "    label=True,\n",
    "    repel=True,\n",
    ")"
   ]
  },
  {
   "cell_type": "markdown",
   "id": "97c6086b-a65f-4fad-860a-5411397a586d",
   "metadata": {},
   "source": [
    "# Model 2"
   ]
  },
  {
   "cell_type": "code",
   "execution_count": null,
   "id": "e05bb265-38c5-4754-8003-4a736b2f5121",
   "metadata": {},
   "outputs": [],
   "source": [
    "models = [\n",
    "    \"mixedbread-ai/mxbai-embed-large-v1\",\n",
    "    \"dragonkue/snowflake-arctic-embed-l-v2.0-ko\",\n",
    "    \"nomic-ai/nomic-embed-text-v2-moe\",\n",
    "    \"Linq-AI-Research/Linq-Embed-Mistral\",\n",
    "    \"Alibaba-NLP/gte-Qwen2-7B-instruct\",\n",
    "    \"intfloat/multilingual-e5-large-instruct\",\n",
    "    \"Salesforce/SFR-Embedding-Mistral\",\n",
    "    \"GritLM/GritLM-7B\",\n",
    "    \"intfloat/e5-mistral-7b-instruct\",\n",
    "    \"Alibaba-NLP/gte-Qwen2-1.5B-instruct\",\n",
    "    \"Lajavaness/bilingual-embedding-large\",\n",
    "    \"Salesforce/SFR-Embedding-2_R\",\n",
    "    \"all-MiniLM-L6-v2\",\n",
    "]"
   ]
  },
  {
   "cell_type": "code",
   "execution_count": null,
   "id": "29c69127",
   "metadata": {},
   "outputs": [],
   "source": [
    "model = load_sentence_transformer(\"dragonkue/snowflake-arctic-embed-l-v2.0-ko\")\n",
    "embeddings = get_embeddings(\n",
    "    df[\"State\"].unique().tolist(), model=model, show_progress=True\n",
    ")\n",
    "pca = do_pca(embeddings, n_components=2)"
   ]
  },
  {
   "cell_type": "code",
   "execution_count": null,
   "id": "da4b5e1c",
   "metadata": {},
   "outputs": [],
   "source": [
    "plt.figure(figsize=(13, 8))\n",
    "\n",
    "plot_embedding(\n",
    "    X=pca[0],\n",
    "    labels=df[\"State\"].unique().tolist(),\n",
    "    title=\"PCA of Indian States\",\n",
    "    explained_var=pca[1],\n",
    "    label=True,\n",
    "    repel=True,\n",
    ")"
   ]
  },
  {
   "cell_type": "code",
   "execution_count": null,
   "id": "737775bf-3ced-4f4d-8283-1253ab0dbec4",
   "metadata": {},
   "outputs": [],
   "source": []
  }
 ],
 "metadata": {
  "kernelspec": {
   "display_name": "Python [conda env:mamba-alethia2]",
   "language": "python",
   "name": "conda-env-mamba-alethia2-py"
  },
  "language_info": {
   "codemirror_mode": {
    "name": "ipython",
    "version": 3
   },
   "file_extension": ".py",
   "mimetype": "text/x-python",
   "name": "python",
   "nbconvert_exporter": "python",
   "pygments_lexer": "ipython3",
   "version": "3.13.3"
  },
  "widgets": {
   "application/vnd.jupyter.widget-state+json": {
    "state": {
     "02a3b37d004543278f028089efd2e35e": {
      "model_module": "@jupyter-widgets/base",
      "model_module_version": "2.0.0",
      "model_name": "LayoutModel",
      "state": {}
     },
     "4368b5fb3f4845578dde7fcb26e65d64": {
      "model_module": "@jupyter-widgets/base",
      "model_module_version": "2.0.0",
      "model_name": "LayoutModel",
      "state": {}
     },
     "48754833c1c340ceaa7af5d4687b35b4": {
      "model_module": "@jupyter-widgets/base",
      "model_module_version": "2.0.0",
      "model_name": "LayoutModel",
      "state": {}
     },
     "5c41048e5149439e84e70962796dc7e7": {
      "model_module": "@jupyter-widgets/controls",
      "model_module_version": "2.0.0",
      "model_name": "HTMLStyleModel",
      "state": {
       "description_width": "",
       "font_size": null,
       "text_color": null
      }
     },
     "64e73548b4154fda935d6a4fd8aa6dfc": {
      "model_module": "@jupyter-widgets/controls",
      "model_module_version": "2.0.0",
      "model_name": "HTMLModel",
      "state": {
       "layout": "IPY_MODEL_a1ae9b52aab7472eac061ef4ee69682f",
       "style": "IPY_MODEL_d252f8ff12034937a27a27e2460d73ef",
       "value": "Loading checkpoint shards: 100%"
      }
     },
     "74f605b17c3345f0af9fc2dfd5dd45c1": {
      "model_module": "@jupyter-widgets/controls",
      "model_module_version": "2.0.0",
      "model_name": "FloatProgressModel",
      "state": {
       "bar_style": "success",
       "layout": "IPY_MODEL_48754833c1c340ceaa7af5d4687b35b4",
       "max": 3,
       "style": "IPY_MODEL_e63327550aca4d4391684b7c26112603",
       "value": 3
      }
     },
     "81709e22d97d4cbe93c2909049f6943b": {
      "model_module": "@jupyter-widgets/controls",
      "model_module_version": "2.0.0",
      "model_name": "HTMLModel",
      "state": {
       "layout": "IPY_MODEL_a655b66a2d5349b790c35f4cd1ed0701",
       "style": "IPY_MODEL_b89dea80507949a5975724aaac5475d9",
       "value": " 3/3 [00:04&lt;00:00,  1.34s/it]"
      }
     },
     "833f1278b0a246b5b5a179bf5c4ce0c0": {
      "model_module": "@jupyter-widgets/base",
      "model_module_version": "2.0.0",
      "model_name": "LayoutModel",
      "state": {}
     },
     "89c99c726c12466d9dc76e54fcfae4ca": {
      "model_module": "@jupyter-widgets/controls",
      "model_module_version": "2.0.0",
      "model_name": "HTMLStyleModel",
      "state": {
       "description_width": "",
       "font_size": null,
       "text_color": null
      }
     },
     "9b20831cf4b249ec833d60b8629cbbcf": {
      "model_module": "@jupyter-widgets/controls",
      "model_module_version": "2.0.0",
      "model_name": "HBoxModel",
      "state": {
       "children": [
        "IPY_MODEL_cc1ef57570634c1dbcca435c15d106a2",
        "IPY_MODEL_d48c77fdf5cf471d85cfbbd6dcbcf500",
        "IPY_MODEL_81709e22d97d4cbe93c2909049f6943b"
       ],
       "layout": "IPY_MODEL_4368b5fb3f4845578dde7fcb26e65d64"
      }
     },
     "a1ae9b52aab7472eac061ef4ee69682f": {
      "model_module": "@jupyter-widgets/base",
      "model_module_version": "2.0.0",
      "model_name": "LayoutModel",
      "state": {}
     },
     "a655b66a2d5349b790c35f4cd1ed0701": {
      "model_module": "@jupyter-widgets/base",
      "model_module_version": "2.0.0",
      "model_name": "LayoutModel",
      "state": {}
     },
     "af97f8004b35404dbd2742190875adf3": {
      "model_module": "@jupyter-widgets/controls",
      "model_module_version": "2.0.0",
      "model_name": "ProgressStyleModel",
      "state": {
       "description_width": ""
      }
     },
     "b2820ab5d03846278066f3ea5b5e398e": {
      "model_module": "@jupyter-widgets/controls",
      "model_module_version": "2.0.0",
      "model_name": "HTMLModel",
      "state": {
       "layout": "IPY_MODEL_833f1278b0a246b5b5a179bf5c4ce0c0",
       "style": "IPY_MODEL_89c99c726c12466d9dc76e54fcfae4ca",
       "value": " 3/3 [00:03&lt;00:00,  1.12s/it]"
      }
     },
     "b89dea80507949a5975724aaac5475d9": {
      "model_module": "@jupyter-widgets/controls",
      "model_module_version": "2.0.0",
      "model_name": "HTMLStyleModel",
      "state": {
       "description_width": "",
       "font_size": null,
       "text_color": null
      }
     },
     "cc1ef57570634c1dbcca435c15d106a2": {
      "model_module": "@jupyter-widgets/controls",
      "model_module_version": "2.0.0",
      "model_name": "HTMLModel",
      "state": {
       "layout": "IPY_MODEL_02a3b37d004543278f028089efd2e35e",
       "style": "IPY_MODEL_5c41048e5149439e84e70962796dc7e7",
       "value": "Loading checkpoint shards: 100%"
      }
     },
     "d252f8ff12034937a27a27e2460d73ef": {
      "model_module": "@jupyter-widgets/controls",
      "model_module_version": "2.0.0",
      "model_name": "HTMLStyleModel",
      "state": {
       "description_width": "",
       "font_size": null,
       "text_color": null
      }
     },
     "d48c77fdf5cf471d85cfbbd6dcbcf500": {
      "model_module": "@jupyter-widgets/controls",
      "model_module_version": "2.0.0",
      "model_name": "FloatProgressModel",
      "state": {
       "bar_style": "success",
       "layout": "IPY_MODEL_de8ac203d0bc400b8b051535183f47e0",
       "max": 3,
       "style": "IPY_MODEL_af97f8004b35404dbd2742190875adf3",
       "value": 3
      }
     },
     "d89261ab877d4b9eac7478cd5adab48e": {
      "model_module": "@jupyter-widgets/controls",
      "model_module_version": "2.0.0",
      "model_name": "HBoxModel",
      "state": {
       "children": [
        "IPY_MODEL_64e73548b4154fda935d6a4fd8aa6dfc",
        "IPY_MODEL_74f605b17c3345f0af9fc2dfd5dd45c1",
        "IPY_MODEL_b2820ab5d03846278066f3ea5b5e398e"
       ],
       "layout": "IPY_MODEL_fc32105c580b47c780b921a9ede7cdd5"
      }
     },
     "de8ac203d0bc400b8b051535183f47e0": {
      "model_module": "@jupyter-widgets/base",
      "model_module_version": "2.0.0",
      "model_name": "LayoutModel",
      "state": {}
     },
     "e63327550aca4d4391684b7c26112603": {
      "model_module": "@jupyter-widgets/controls",
      "model_module_version": "2.0.0",
      "model_name": "ProgressStyleModel",
      "state": {
       "description_width": ""
      }
     },
     "fc32105c580b47c780b921a9ede7cdd5": {
      "model_module": "@jupyter-widgets/base",
      "model_module_version": "2.0.0",
      "model_name": "LayoutModel",
      "state": {}
     }
    },
    "version_major": 2,
    "version_minor": 0
   }
  }
 },
 "nbformat": 4,
 "nbformat_minor": 5
}
