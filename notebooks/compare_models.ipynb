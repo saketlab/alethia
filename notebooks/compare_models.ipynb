{
 "cells": [
  {
   "cell_type": "code",
   "execution_count": 2,
   "id": "5240675b",
   "metadata": {},
   "outputs": [],
   "source": [
    "from alethia import (\n",
    "    alethia,\n",
    "    get_embeddings,\n",
    "    load_sentence_transformer,\n",
    "    do_pca,\n",
    "    plot_embedding,\n",
    ")\n",
    "\n",
    "import pandas as pd"
   ]
  },
  {
   "cell_type": "code",
   "execution_count": 3,
   "id": "f8f295f3",
   "metadata": {},
   "outputs": [
    {
     "data": {
      "application/vnd.microsoft.datawrangler.viewer.v0+json": {
       "columns": [
        {
         "name": "index",
         "rawType": "int64",
         "type": "integer"
        },
        {
         "name": "State",
         "rawType": "object",
         "type": "string"
        },
        {
         "name": "1951",
         "rawType": "object",
         "type": "unknown"
        },
        {
         "name": "1961",
         "rawType": "object",
         "type": "unknown"
        },
        {
         "name": "1971",
         "rawType": "object",
         "type": "unknown"
        },
        {
         "name": "1981",
         "rawType": "object",
         "type": "unknown"
        },
        {
         "name": "1991",
         "rawType": "object",
         "type": "unknown"
        },
        {
         "name": "2001",
         "rawType": "object",
         "type": "unknown"
        }
       ],
       "conversionMethod": "pd.DataFrame",
       "ref": "91fa1ef5-3805-47f5-886b-747cfb0575b4",
       "rows": [
        [
         "0",
         "Andaman and Nicobar Islands",
         "Andaman and Nicobar",
         "Andaman and Nicobar Islands",
         "Andaman and Nicobar Islands",
         "Andaman and Nicobar Islands",
         "Andaman and Nicobar Islands",
         "Andaman and Nicobar Islands"
        ],
        [
         "1",
         "Andaman and Nicobar Islands",
         "Andaman and Nicobar",
         "Andaman and Nicobar Islands",
         "Andaman and Nicobar Islands",
         "Andaman",
         "Andaman",
         "Andaman"
        ],
        [
         "2",
         "Andaman and Nicobar Islands",
         "Andaman and Nicobar",
         "Andaman and Nicobar Islands",
         "Andaman and Nicobar Islands",
         "Nicobar",
         "Nicobar",
         "Nicobar"
        ],
        [
         "3",
         "Andhra Pradesh",
         "Srikakulam",
         "Srikakulam",
         "Srikakulam",
         "Srikakulam",
         "Srikakulam",
         "Srikakulam"
        ],
        [
         "4",
         "Andhra Pradesh",
         "Srikakulam",
         "Srikakulam",
         "Srikakulam",
         "Vizianagaram",
         "Vizianagaram",
         "Vizianagaram"
        ],
        [
         "5",
         "Andhra Pradesh",
         "Vizagapatnam",
         "Visakhapatnam",
         "Visakhapatnam",
         "Visakhapatnam",
         "Visakhapatnam",
         "Visakhapatnam"
        ],
        [
         "6",
         "Andhra Pradesh",
         "Vizagapatnam",
         "Visakhapatnam",
         "Visakhapatnam",
         "Vizianagaram",
         "Vizianagaram",
         "Vizianagaram"
        ],
        [
         "7",
         "Andhra Pradesh",
         "East Godavari",
         "East Godavari",
         "East Godavari",
         "East Godavari",
         "East Godavari",
         "East Godavari"
        ],
        [
         "8",
         "Andhra Pradesh",
         "West Godavari",
         "West Godavari",
         "West Godavari",
         "West Godavari",
         "West Godavari",
         "West Godavari"
        ],
        [
         "9",
         "Andhra Pradesh",
         "Krishna",
         "Krishna",
         "Krishna",
         "Krishna",
         "Krishna",
         "Krishna"
        ],
        [
         "10",
         "Andhra Pradesh",
         "Guntur",
         "Guntur",
         "Guntur",
         "Guntur",
         "Guntur",
         "Guntur"
        ],
        [
         "11",
         "Andhra Pradesh",
         "Guntur",
         "Guntur",
         " Ongole",
         " Ongole",
         " Ongole",
         " Ongole"
        ],
        [
         "12",
         "Andhra Pradesh",
         "Nellore",
         "Nellore",
         "Nellore",
         "Nellore",
         "Nellore",
         "Nellore"
        ],
        [
         "13",
         "Andhra Pradesh",
         "Nellore",
         "Nellore",
         "Ongole",
         "Ongole",
         "Ongole",
         "Ongole"
        ],
        [
         "14",
         "Andhra Pradesh",
         "Chittoor",
         "Chittoor",
         "Chittoor",
         "Chittoor",
         "Chittoor",
         "Chittoor"
        ],
        [
         "15",
         "Andhra Pradesh",
         "Cuddapah",
         "Cuddapah",
         "Cuddapah",
         "Cuddapah",
         "Cuddapah",
         "Cuddapah"
        ],
        [
         "16",
         "Andhra Pradesh",
         "Anantapur",
         "Anantapur",
         "Anantapur",
         "Anantapur",
         "Anantapur",
         "Anantapur"
        ],
        [
         "17",
         "Andhra Pradesh",
         "Kurnool",
         "Kurnool",
         "Kurnool",
         "Kurnool",
         "Kurnool",
         "Kurnool"
        ],
        [
         "18",
         "Andhra Pradesh",
         "Kurnool",
         "Kurnool",
         "Ongole",
         "Ongole",
         "Ongole",
         "Ongole"
        ],
        [
         "19",
         "Andhra Pradesh",
         "Mahbubnagar",
         "Mahbubnagar",
         "Mahbubnagar",
         "Mahbubnagar",
         "Mahbubnagar",
         "Mahbubnagar"
        ],
        [
         "20",
         "Andhra Pradesh",
         "Hyderabad",
         "Hyderabad",
         "Hyderabad",
         "Hyderabad",
         "Hyderabad",
         "Hyderabad"
        ],
        [
         "21",
         "Andhra Pradesh",
         "Hyderabad",
         "Hyderabad",
         "Hyderabad",
         "Rangareddi",
         "Rangareddi",
         "Rangareddi"
        ],
        [
         "22",
         "Andhra Pradesh",
         "Medak",
         "Medak",
         "Medak",
         "Medak",
         "Medak",
         "Medak"
        ],
        [
         "23",
         "Andhra Pradesh",
         "Nizamabad",
         "Nizamabad",
         "Nizamabad",
         "Nizamabad",
         "Nizamabad",
         "Nizamabad"
        ],
        [
         "24",
         "Andhra Pradesh",
         "Adilabad",
         "Adilabad",
         "Adilabad",
         "Adilabad",
         "Adilabad",
         "Adilabad"
        ],
        [
         "25",
         "Andhra Pradesh",
         "Karimnagar",
         "Karimnagar",
         "Karimnagar",
         "Karimnagar",
         "Karimnagar",
         "Karimnagar"
        ],
        [
         "26",
         "Andhra Pradesh",
         "Warangal",
         "Warangal",
         "Warangal",
         "Warangal",
         "Warangal",
         "Warangal"
        ],
        [
         "27",
         "Andhra Pradesh",
         "Warangal",
         "Khammam",
         "Khammam",
         "Khammam",
         "Khammam",
         "Khammam"
        ],
        [
         "28",
         "Andhra Pradesh",
         "Nalgonda",
         "Nalgonda",
         "Nalgonda",
         "Nalgonda",
         "Nalgonda",
         "Nalgonda"
        ],
        [
         "29",
         "Arunachal Pradesh",
         "Balipara Frontier Tract",
         "Kameng Frontier Division",
         "Kameng",
         "West Kameng",
         "West Kameng",
         "West Kameng"
        ],
        [
         "30",
         "Arunachal Pradesh",
         "Balipara Frontier Tract",
         "Kameng Frontier Division",
         "Kameng Frontier Division",
         "Kameng Frontier Division",
         "Tawang",
         "Tawang"
        ],
        [
         "31",
         "Arunachal Pradesh",
         "Balipara Frontier Tract",
         "Kameng Frontier Division",
         "Kameng Frontier Division",
         "East Kameng",
         "East Kameng",
         "East Kameng"
        ],
        [
         "32",
         "Arunachal Pradesh",
         "Balipara Frontier Tract",
         "Subansiri Frontier Division",
         "Subansiri",
         "Lower Subansiri",
         "Lower Subansiri",
         "Lower Subansiri"
        ],
        [
         "33",
         "Arunachal Pradesh",
         "Balipara Frontier Tract",
         "Subansiri Frontier Division",
         "Subansiri Frontier Division",
         "Subansiri Frontier Division",
         "Subansiri Frontier Division",
         "Papum Pare"
        ],
        [
         "34",
         "Arunachal Pradesh",
         "Balipara Frontier Tract",
         "Subansiri Frontier Division",
         "Subansiri Frontier Division",
         "Subansiri Frontier Division",
         "Upper Subansiri",
         "Upper Subansiri"
        ],
        [
         "35",
         "Arunachal Pradesh",
         "Abor Hills",
         "Siang Frontier Division",
         "Siang",
         "West Siang",
         "West Siang",
         "West Siang"
        ],
        [
         "36",
         "Arunachal Pradesh",
         "Abor Hills",
         "Siang Frontier Division",
         "Siang",
         "Upper Subansiri",
         "Upper Subansiri",
         "Upper Subansiri"
        ],
        [
         "37",
         "Arunachal Pradesh",
         "Abor Hills",
         "Siang Frontier Division",
         "Siang",
         "East Siang",
         "East Siang",
         "East Siang"
        ],
        [
         "38",
         "Arunachal Pradesh",
         "Abor Hills",
         "Siang Frontier Division",
         "Siang",
         "East Siang",
         "East Siang",
         "Upper Siang"
        ],
        [
         "39",
         "Arunachal Pradesh",
         "Mishmi Hills",
         "Lohit Frontier Division",
         "Lohit",
         "Lohit",
         "Lohit",
         "Lohit"
        ],
        [
         "40",
         "Arunachal Pradesh",
         "Mishmi Hills",
         "Lohit Frontier Division",
         "Lohit",
         "Dibang Valley",
         "Dibang Valley",
         "Dibang Valley"
        ],
        [
         "41",
         "Arunachal Pradesh",
         "Tirap Frontier Tract",
         "Tirap Frontier Division",
         "Tirap",
         "Tirap",
         "Tirap",
         "Tirap"
        ],
        [
         "42",
         "Arunachal Pradesh",
         "Tirap Frontier Tract",
         "Tirap Frontier Division",
         "Tirap",
         "Tirap",
         "Changlang",
         "Changlang"
        ],
        [
         "43",
         "Assam",
         "Goalpara",
         "Goalpara",
         "Goalpara",
         "Goalpara",
         "Goalpara",
         "Goalpara"
        ],
        [
         "44",
         "Assam",
         "Goalpara",
         "Goalpara",
         "Goalpara",
         "Goalpara",
         "Dhuburi",
         "Dhuburi"
        ],
        [
         "45",
         "Assam",
         "Goalpara",
         "Goalpara",
         "Goalpara",
         "Goalpara",
         "Kokrajhar",
         "Kokrajhar"
        ],
        [
         "46",
         "Assam",
         "Goalpara",
         "Goalpara",
         "Goalpara",
         "Goalpara",
         "Bongaigaon",
         "Bongaigaon"
        ],
        [
         "47",
         "Assam",
         "Kamrup",
         "Kamrup",
         "Kamrup",
         "Kamrup",
         "Kamrup",
         "Kamrup"
        ],
        [
         "48",
         "Assam",
         "Kamrup",
         "Kamrup",
         "Kamrup",
         "Kamrup",
         "Barpeta",
         "Barpeta"
        ],
        [
         "49",
         "Assam",
         "Kamrup",
         "Kamrup",
         "Kamrup",
         "Kamrup",
         "Nalbari",
         "Nalbari"
        ]
       ],
       "shape": {
        "columns": 7,
        "rows": 636
       }
      },
      "text/html": [
       "<div>\n",
       "<style scoped>\n",
       "    .dataframe tbody tr th:only-of-type {\n",
       "        vertical-align: middle;\n",
       "    }\n",
       "\n",
       "    .dataframe tbody tr th {\n",
       "        vertical-align: top;\n",
       "    }\n",
       "\n",
       "    .dataframe thead th {\n",
       "        text-align: right;\n",
       "    }\n",
       "</style>\n",
       "<table border=\"1\" class=\"dataframe\">\n",
       "  <thead>\n",
       "    <tr style=\"text-align: right;\">\n",
       "      <th></th>\n",
       "      <th>State</th>\n",
       "      <th>1951</th>\n",
       "      <th>1961</th>\n",
       "      <th>1971</th>\n",
       "      <th>1981</th>\n",
       "      <th>1991</th>\n",
       "      <th>2001</th>\n",
       "    </tr>\n",
       "  </thead>\n",
       "  <tbody>\n",
       "    <tr>\n",
       "      <th>0</th>\n",
       "      <td>Andaman and Nicobar Islands</td>\n",
       "      <td>Andaman and Nicobar</td>\n",
       "      <td>Andaman and Nicobar Islands</td>\n",
       "      <td>Andaman and Nicobar Islands</td>\n",
       "      <td>Andaman and Nicobar Islands</td>\n",
       "      <td>Andaman and Nicobar Islands</td>\n",
       "      <td>Andaman and Nicobar Islands</td>\n",
       "    </tr>\n",
       "    <tr>\n",
       "      <th>1</th>\n",
       "      <td>Andaman and Nicobar Islands</td>\n",
       "      <td>Andaman and Nicobar</td>\n",
       "      <td>Andaman and Nicobar Islands</td>\n",
       "      <td>Andaman and Nicobar Islands</td>\n",
       "      <td>Andaman</td>\n",
       "      <td>Andaman</td>\n",
       "      <td>Andaman</td>\n",
       "    </tr>\n",
       "    <tr>\n",
       "      <th>2</th>\n",
       "      <td>Andaman and Nicobar Islands</td>\n",
       "      <td>Andaman and Nicobar</td>\n",
       "      <td>Andaman and Nicobar Islands</td>\n",
       "      <td>Andaman and Nicobar Islands</td>\n",
       "      <td>Nicobar</td>\n",
       "      <td>Nicobar</td>\n",
       "      <td>Nicobar</td>\n",
       "    </tr>\n",
       "    <tr>\n",
       "      <th>3</th>\n",
       "      <td>Andhra Pradesh</td>\n",
       "      <td>Srikakulam</td>\n",
       "      <td>Srikakulam</td>\n",
       "      <td>Srikakulam</td>\n",
       "      <td>Srikakulam</td>\n",
       "      <td>Srikakulam</td>\n",
       "      <td>Srikakulam</td>\n",
       "    </tr>\n",
       "    <tr>\n",
       "      <th>4</th>\n",
       "      <td>Andhra Pradesh</td>\n",
       "      <td>Srikakulam</td>\n",
       "      <td>Srikakulam</td>\n",
       "      <td>Srikakulam</td>\n",
       "      <td>Vizianagaram</td>\n",
       "      <td>Vizianagaram</td>\n",
       "      <td>Vizianagaram</td>\n",
       "    </tr>\n",
       "    <tr>\n",
       "      <th>...</th>\n",
       "      <td>...</td>\n",
       "      <td>...</td>\n",
       "      <td>...</td>\n",
       "      <td>...</td>\n",
       "      <td>...</td>\n",
       "      <td>...</td>\n",
       "      <td>...</td>\n",
       "    </tr>\n",
       "    <tr>\n",
       "      <th>631</th>\n",
       "      <td>West Bengal</td>\n",
       "      <td>Burdwan</td>\n",
       "      <td>Burdwan</td>\n",
       "      <td>Burdwan</td>\n",
       "      <td>Burdwan</td>\n",
       "      <td>Burdwan</td>\n",
       "      <td>Burdwan</td>\n",
       "    </tr>\n",
       "    <tr>\n",
       "      <th>632</th>\n",
       "      <td>West Bengal</td>\n",
       "      <td>Birbhum</td>\n",
       "      <td>Birbhum</td>\n",
       "      <td>Birbhum</td>\n",
       "      <td>Birbhum</td>\n",
       "      <td>Birbhum</td>\n",
       "      <td>Birbhum</td>\n",
       "    </tr>\n",
       "    <tr>\n",
       "      <th>633</th>\n",
       "      <td>West Bengal</td>\n",
       "      <td>Bankura</td>\n",
       "      <td>Bankura</td>\n",
       "      <td>Bankura</td>\n",
       "      <td>Bankura</td>\n",
       "      <td>Bankura</td>\n",
       "      <td>Bankura</td>\n",
       "    </tr>\n",
       "    <tr>\n",
       "      <th>634</th>\n",
       "      <td>West Bengal</td>\n",
       "      <td>Midnapur</td>\n",
       "      <td>Midnapore</td>\n",
       "      <td>Midnapore</td>\n",
       "      <td>Midnapore</td>\n",
       "      <td>Midnapore</td>\n",
       "      <td>Midnapore</td>\n",
       "    </tr>\n",
       "    <tr>\n",
       "      <th>635</th>\n",
       "      <td>West Bengal</td>\n",
       "      <td>Purulia</td>\n",
       "      <td>Puralia</td>\n",
       "      <td>Puralia</td>\n",
       "      <td>Puralia</td>\n",
       "      <td>Puralia</td>\n",
       "      <td>Puralia</td>\n",
       "    </tr>\n",
       "  </tbody>\n",
       "</table>\n",
       "<p>636 rows × 7 columns</p>\n",
       "</div>"
      ],
      "text/plain": [
       "                           State                 1951  \\\n",
       "0    Andaman and Nicobar Islands  Andaman and Nicobar   \n",
       "1    Andaman and Nicobar Islands  Andaman and Nicobar   \n",
       "2    Andaman and Nicobar Islands  Andaman and Nicobar   \n",
       "3                 Andhra Pradesh           Srikakulam   \n",
       "4                 Andhra Pradesh           Srikakulam   \n",
       "..                           ...                  ...   \n",
       "631                  West Bengal              Burdwan   \n",
       "632                  West Bengal              Birbhum   \n",
       "633                  West Bengal              Bankura   \n",
       "634                  West Bengal             Midnapur   \n",
       "635                  West Bengal              Purulia   \n",
       "\n",
       "                            1961                         1971  \\\n",
       "0    Andaman and Nicobar Islands  Andaman and Nicobar Islands   \n",
       "1    Andaman and Nicobar Islands  Andaman and Nicobar Islands   \n",
       "2    Andaman and Nicobar Islands  Andaman and Nicobar Islands   \n",
       "3                     Srikakulam                   Srikakulam   \n",
       "4                     Srikakulam                   Srikakulam   \n",
       "..                           ...                          ...   \n",
       "631                      Burdwan                      Burdwan   \n",
       "632                      Birbhum                      Birbhum   \n",
       "633                      Bankura                      Bankura   \n",
       "634                    Midnapore                    Midnapore   \n",
       "635                      Puralia                      Puralia   \n",
       "\n",
       "                            1981                         1991  \\\n",
       "0    Andaman and Nicobar Islands  Andaman and Nicobar Islands   \n",
       "1                        Andaman                      Andaman   \n",
       "2                        Nicobar                      Nicobar   \n",
       "3                     Srikakulam                   Srikakulam   \n",
       "4                   Vizianagaram                 Vizianagaram   \n",
       "..                           ...                          ...   \n",
       "631                      Burdwan                      Burdwan   \n",
       "632                      Birbhum                      Birbhum   \n",
       "633                      Bankura                      Bankura   \n",
       "634                    Midnapore                    Midnapore   \n",
       "635                      Puralia                      Puralia   \n",
       "\n",
       "                            2001  \n",
       "0    Andaman and Nicobar Islands  \n",
       "1                        Andaman  \n",
       "2                        Nicobar  \n",
       "3                     Srikakulam  \n",
       "4                   Vizianagaram  \n",
       "..                           ...  \n",
       "631                      Burdwan  \n",
       "632                      Birbhum  \n",
       "633                      Bankura  \n",
       "634                    Midnapore  \n",
       "635                      Puralia  \n",
       "\n",
       "[636 rows x 7 columns]"
      ]
     },
     "execution_count": 3,
     "metadata": {},
     "output_type": "execute_result"
    }
   ],
   "source": [
    "df = pd.read_csv(\n",
    "    \"~/github/pranav-alethia/notebooks/data_district_mappings/India_district_mappings - Sheet1.csv\"\n",
    ")\n",
    "df"
   ]
  },
  {
   "cell_type": "code",
   "execution_count": 4,
   "id": "28b9c7d9",
   "metadata": {},
   "outputs": [
    {
     "name": "stdout",
     "output_type": "stream",
     "text": [
      "Loading model Salesforce/SFR-Embedding-Mistral\n"
     ]
    },
    {
     "data": {
      "application/vnd.jupyter.widget-view+json": {
       "model_id": "1602a64d26314383af829c6bec3c847a",
       "version_major": 2,
       "version_minor": 0
      },
      "text/plain": [
       "Loading checkpoint shards:   0%|          | 0/3 [00:00<?, ?it/s]"
      ]
     },
     "metadata": {},
     "output_type": "display_data"
    },
    {
     "name": "stdout",
     "output_type": "stream",
     "text": [
      "Successfully loaded model: Salesforce/SFR-Embedding-Mistral\n"
     ]
    }
   ],
   "source": [
    "model = load_sentence_transformer(\"Salesforce/SFR-Embedding-Mistral\")"
   ]
  },
  {
   "cell_type": "code",
   "execution_count": 5,
   "id": "cc631bd5",
   "metadata": {},
   "outputs": [
    {
     "name": "stderr",
     "output_type": "stream",
     "text": [
      "Generating Embeddings: 100%|██████████| 29/29 [00:02<00:00, 14.02it/s]\n"
     ]
    }
   ],
   "source": [
    "embeddings = get_embeddings(\n",
    "    df[\"State\"].unique().tolist(), model=model, show_progress=True\n",
    ")"
   ]
  },
  {
   "cell_type": "code",
   "execution_count": 6,
   "id": "9424ef18",
   "metadata": {},
   "outputs": [],
   "source": [
    "pca = do_pca(embeddings, n_components=2)"
   ]
  },
  {
   "cell_type": "code",
   "execution_count": 7,
   "id": "df826d68",
   "metadata": {},
   "outputs": [
    {
     "data": {
      "text/plain": [
       "array([[ 3.2037027 ,  1.8753374 ,  2.2244918 , ...,  8.78096   ,\n",
       "        -4.0516167 , -0.2309588 ],\n",
       "       [ 6.414702  , -1.4188259 ,  3.639028  , ...,  7.3677454 ,\n",
       "        -7.0216107 ,  3.1627395 ],\n",
       "       [ 8.731812  ,  1.290672  ,  4.3069015 , ...,  9.412881  ,\n",
       "        -3.7166533 , -0.19845618],\n",
       "       ...,\n",
       "       [ 8.0961485 , -1.0567504 ,  5.1069202 , ...,  6.733711  ,\n",
       "        -5.649408  ,  0.92317814],\n",
       "       [ 6.021009  , -4.0034814 ,  3.9825835 , ..., 12.447636  ,\n",
       "        -5.7767057 ,  0.34741116],\n",
       "       [ 4.4400787 ,  2.3409717 ,  2.1593041 , ...,  7.6520114 ,\n",
       "        -3.7373037 ,  2.4561276 ]], shape=(29, 4096), dtype=float32)"
      ]
     },
     "execution_count": 7,
     "metadata": {},
     "output_type": "execute_result"
    }
   ],
   "source": [
    "pca[0]"
   ]
  },
  {
   "cell_type": "code",
   "execution_count": 9,
   "id": "29c69127",
   "metadata": {},
   "outputs": [
    {
     "name": "stderr",
     "output_type": "stream",
     "text": [
      "Looks like you are using a tranform that doesn't support FancyArrowPatch, using ax.annotate instead. The arrows might strike through texts. Increasing shrinkA in arrowprops might help.\n"
     ]
    },
    {
     "data": {
      "image/png": "[encoded data removed]",
      "text/plain": [
       "<Figure size 1000x800 with 1 Axes>"
      ]
     },
     "metadata": {},
     "output_type": "display_data"
    }
   ],
   "source": [
    "plot_embedding(\n",
    "    X=pca[0],\n",
    "    labels=df[\"State\"].unique().tolist(),\n",
    "    title=\"PCA of Indian States\",\n",
    "    explained_var=pca[1],\n",
    "    label=True,\n",
    "    repel=True,\n",
    ")"
   ]
  },
  {
   "cell_type": "code",
   "execution_count": null,
   "id": "da4b5e1c",
   "metadata": {},
   "outputs": [],
   "source": []
  }
 ],
 "metadata": {
  "kernelspec": {
   "display_name": "Python 3",
   "language": "python",
   "name": "python3"
  },
  "language_info": {
   "codemirror_mode": {
    "name": "ipython",
    "version": 3
   },
   "file_extension": ".py",
   "mimetype": "text/x-python",
   "name": "python",
   "nbconvert_exporter": "python",
   "pygments_lexer": "ipython3",
   "version": "3.13.3"
  }
 },
 "nbformat": 4,
 "nbformat_minor": 5
}
