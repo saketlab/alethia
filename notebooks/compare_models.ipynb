{
 "cells": [
  {
   "cell_type": "code",
   "execution_count": 1,
   "id": "5240675b",
   "metadata": {},
   "outputs": [],
   "source": [
    "from alethia import (\n",
    "    alethia,\n",
    "    get_embeddings,\n",
    "    load_sentence_transformer,\n",
    "    do_pca,\n",
    "    plot_embedding,\n",
    ")\n",
    "\n",
    "import pandas as pd"
   ]
  },
  {
   "cell_type": "code",
   "execution_count": 2,
   "id": "f8f295f3",
   "metadata": {},
   "outputs": [
    {
     "data": {
      "text/html": [
       "<div>\n",
       "<style scoped>\n",
       "    .dataframe tbody tr th:only-of-type {\n",
       "        vertical-align: middle;\n",
       "    }\n",
       "\n",
       "    .dataframe tbody tr th {\n",
       "        vertical-align: top;\n",
       "    }\n",
       "\n",
       "    .dataframe thead th {\n",
       "        text-align: right;\n",
       "    }\n",
       "</style>\n",
       "<table border=\"1\" class=\"dataframe\">\n",
       "  <thead>\n",
       "    <tr style=\"text-align: right;\">\n",
       "      <th></th>\n",
       "      <th>State</th>\n",
       "      <th>1951</th>\n",
       "      <th>1961</th>\n",
       "      <th>1971</th>\n",
       "      <th>1981</th>\n",
       "      <th>1991</th>\n",
       "      <th>2001</th>\n",
       "    </tr>\n",
       "  </thead>\n",
       "  <tbody>\n",
       "    <tr>\n",
       "      <th>0</th>\n",
       "      <td>Andaman and Nicobar Islands</td>\n",
       "      <td>Andaman and Nicobar</td>\n",
       "      <td>Andaman and Nicobar Islands</td>\n",
       "      <td>Andaman and Nicobar Islands</td>\n",
       "      <td>Andaman and Nicobar Islands</td>\n",
       "      <td>Andaman and Nicobar Islands</td>\n",
       "      <td>Andaman and Nicobar Islands</td>\n",
       "    </tr>\n",
       "    <tr>\n",
       "      <th>1</th>\n",
       "      <td>Andaman and Nicobar Islands</td>\n",
       "      <td>Andaman and Nicobar</td>\n",
       "      <td>Andaman and Nicobar Islands</td>\n",
       "      <td>Andaman and Nicobar Islands</td>\n",
       "      <td>Andaman</td>\n",
       "      <td>Andaman</td>\n",
       "      <td>Andaman</td>\n",
       "    </tr>\n",
       "    <tr>\n",
       "      <th>2</th>\n",
       "      <td>Andaman and Nicobar Islands</td>\n",
       "      <td>Andaman and Nicobar</td>\n",
       "      <td>Andaman and Nicobar Islands</td>\n",
       "      <td>Andaman and Nicobar Islands</td>\n",
       "      <td>Nicobar</td>\n",
       "      <td>Nicobar</td>\n",
       "      <td>Nicobar</td>\n",
       "    </tr>\n",
       "    <tr>\n",
       "      <th>3</th>\n",
       "      <td>Andhra Pradesh</td>\n",
       "      <td>Srikakulam</td>\n",
       "      <td>Srikakulam</td>\n",
       "      <td>Srikakulam</td>\n",
       "      <td>Srikakulam</td>\n",
       "      <td>Srikakulam</td>\n",
       "      <td>Srikakulam</td>\n",
       "    </tr>\n",
       "    <tr>\n",
       "      <th>4</th>\n",
       "      <td>Andhra Pradesh</td>\n",
       "      <td>Srikakulam</td>\n",
       "      <td>Srikakulam</td>\n",
       "      <td>Srikakulam</td>\n",
       "      <td>Vizianagaram</td>\n",
       "      <td>Vizianagaram</td>\n",
       "      <td>Vizianagaram</td>\n",
       "    </tr>\n",
       "    <tr>\n",
       "      <th>...</th>\n",
       "      <td>...</td>\n",
       "      <td>...</td>\n",
       "      <td>...</td>\n",
       "      <td>...</td>\n",
       "      <td>...</td>\n",
       "      <td>...</td>\n",
       "      <td>...</td>\n",
       "    </tr>\n",
       "    <tr>\n",
       "      <th>631</th>\n",
       "      <td>West Bengal</td>\n",
       "      <td>Burdwan</td>\n",
       "      <td>Burdwan</td>\n",
       "      <td>Burdwan</td>\n",
       "      <td>Burdwan</td>\n",
       "      <td>Burdwan</td>\n",
       "      <td>Burdwan</td>\n",
       "    </tr>\n",
       "    <tr>\n",
       "      <th>632</th>\n",
       "      <td>West Bengal</td>\n",
       "      <td>Birbhum</td>\n",
       "      <td>Birbhum</td>\n",
       "      <td>Birbhum</td>\n",
       "      <td>Birbhum</td>\n",
       "      <td>Birbhum</td>\n",
       "      <td>Birbhum</td>\n",
       "    </tr>\n",
       "    <tr>\n",
       "      <th>633</th>\n",
       "      <td>West Bengal</td>\n",
       "      <td>Bankura</td>\n",
       "      <td>Bankura</td>\n",
       "      <td>Bankura</td>\n",
       "      <td>Bankura</td>\n",
       "      <td>Bankura</td>\n",
       "      <td>Bankura</td>\n",
       "    </tr>\n",
       "    <tr>\n",
       "      <th>634</th>\n",
       "      <td>West Bengal</td>\n",
       "      <td>Midnapur</td>\n",
       "      <td>Midnapore</td>\n",
       "      <td>Midnapore</td>\n",
       "      <td>Midnapore</td>\n",
       "      <td>Midnapore</td>\n",
       "      <td>Midnapore</td>\n",
       "    </tr>\n",
       "    <tr>\n",
       "      <th>635</th>\n",
       "      <td>West Bengal</td>\n",
       "      <td>Purulia</td>\n",
       "      <td>Puralia</td>\n",
       "      <td>Puralia</td>\n",
       "      <td>Puralia</td>\n",
       "      <td>Puralia</td>\n",
       "      <td>Puralia</td>\n",
       "    </tr>\n",
       "  </tbody>\n",
       "</table>\n",
       "<p>636 rows × 7 columns</p>\n",
       "</div>"
      ],
      "text/plain": [
       "                           State                 1951  \\\n",
       "0    Andaman and Nicobar Islands  Andaman and Nicobar   \n",
       "1    Andaman and Nicobar Islands  Andaman and Nicobar   \n",
       "2    Andaman and Nicobar Islands  Andaman and Nicobar   \n",
       "3                 Andhra Pradesh           Srikakulam   \n",
       "4                 Andhra Pradesh           Srikakulam   \n",
       "..                           ...                  ...   \n",
       "631                  West Bengal              Burdwan   \n",
       "632                  West Bengal              Birbhum   \n",
       "633                  West Bengal              Bankura   \n",
       "634                  West Bengal             Midnapur   \n",
       "635                  West Bengal              Purulia   \n",
       "\n",
       "                            1961                         1971  \\\n",
       "0    Andaman and Nicobar Islands  Andaman and Nicobar Islands   \n",
       "1    Andaman and Nicobar Islands  Andaman and Nicobar Islands   \n",
       "2    Andaman and Nicobar Islands  Andaman and Nicobar Islands   \n",
       "3                     Srikakulam                   Srikakulam   \n",
       "4                     Srikakulam                   Srikakulam   \n",
       "..                           ...                          ...   \n",
       "631                      Burdwan                      Burdwan   \n",
       "632                      Birbhum                      Birbhum   \n",
       "633                      Bankura                      Bankura   \n",
       "634                    Midnapore                    Midnapore   \n",
       "635                      Puralia                      Puralia   \n",
       "\n",
       "                            1981                         1991  \\\n",
       "0    Andaman and Nicobar Islands  Andaman and Nicobar Islands   \n",
       "1                        Andaman                      Andaman   \n",
       "2                        Nicobar                      Nicobar   \n",
       "3                     Srikakulam                   Srikakulam   \n",
       "4                   Vizianagaram                 Vizianagaram   \n",
       "..                           ...                          ...   \n",
       "631                      Burdwan                      Burdwan   \n",
       "632                      Birbhum                      Birbhum   \n",
       "633                      Bankura                      Bankura   \n",
       "634                    Midnapore                    Midnapore   \n",
       "635                      Puralia                      Puralia   \n",
       "\n",
       "                            2001  \n",
       "0    Andaman and Nicobar Islands  \n",
       "1                        Andaman  \n",
       "2                        Nicobar  \n",
       "3                     Srikakulam  \n",
       "4                   Vizianagaram  \n",
       "..                           ...  \n",
       "631                      Burdwan  \n",
       "632                      Birbhum  \n",
       "633                      Bankura  \n",
       "634                    Midnapore  \n",
       "635                      Puralia  \n",
       "\n",
       "[636 rows x 7 columns]"
      ]
     },
     "execution_count": 2,
     "metadata": {},
     "output_type": "execute_result"
    }
   ],
   "source": [
    "df = pd.read_csv(\n",
    "    \"~/github/pranav-alethia/notebooks/data_district_mappings/India_district_mappings - Sheet1.csv\"\n",
    ")\n",
    "df"
   ]
  },
  {
   "cell_type": "code",
   "execution_count": 3,
   "id": "5405287a-b9a8-468a-b36f-150cbdef3d30",
   "metadata": {},
   "outputs": [
    {
     "data": {
      "text/plain": [
       "<function alethia.alethia.load_sentence_transformer(model_name, force_cpu=False, **kwargs)>"
      ]
     },
     "execution_count": 3,
     "metadata": {},
     "output_type": "execute_result"
    }
   ],
   "source": [
    "load_sentence_transformer"
   ]
  },
  {
   "cell_type": "code",
   "execution_count": 6,
   "id": "28b9c7d9",
   "metadata": {},
   "outputs": [
    {
     "name": "stdout",
     "output_type": "stream",
     "text": [
      "Loading model epfl-llm/meditron-7b\n"
     ]
    },
    {
     "name": "stderr",
     "output_type": "stream",
     "text": [
      "No sentence-transformers model found with name epfl-llm/meditron-7b. Creating a new one with mean pooling.\n"
     ]
    },
    {
     "data": {
      "application/vnd.jupyter.widget-view+json": {
       "model_id": "a8ce1d1914c448d7ae7d18f19cf3762d",
       "version_major": 2,
       "version_minor": 0
      },
      "text/plain": [
       "config.json:   0%|          | 0.00/610 [00:00<?, ?B/s]"
      ]
     },
     "metadata": {},
     "output_type": "display_data"
    },
    {
     "data": {
      "application/vnd.jupyter.widget-view+json": {
       "model_id": "548eb853591f45ea95882c843966a1e0",
       "version_major": 2,
       "version_minor": 0
      },
      "text/plain": [
       "model.safetensors.index.json:   0%|          | 0.00/23.9k [00:00<?, ?B/s]"
      ]
     },
     "metadata": {},
     "output_type": "display_data"
    },
    {
     "data": {
      "application/vnd.jupyter.widget-view+json": {
       "model_id": "c4113cd6665c4ad18ea01268dbd01c8f",
       "version_major": 2,
       "version_minor": 0
      },
      "text/plain": [
       "Fetching 8 files:   0%|          | 0/8 [00:00<?, ?it/s]"
      ]
     },
     "metadata": {},
     "output_type": "display_data"
    },
    {
     "data": {
      "application/vnd.jupyter.widget-view+json": {
       "model_id": "2d2367a7e5d14cacb0bc084438262381",
       "version_major": 2,
       "version_minor": 0
      },
      "text/plain": [
       "model-00001-of-00008.safetensors:   0%|          | 0.00/1.91G [00:00<?, ?B/s]"
      ]
     },
     "metadata": {},
     "output_type": "display_data"
    },
    {
     "data": {
      "application/vnd.jupyter.widget-view+json": {
       "model_id": "ef700f76f3124d16bce348cd17c0291d",
       "version_major": 2,
       "version_minor": 0
      },
      "text/plain": [
       "model-00004-of-00008.safetensors:   0%|          | 0.00/1.92G [00:00<?, ?B/s]"
      ]
     },
     "metadata": {},
     "output_type": "display_data"
    },
    {
     "data": {
      "application/vnd.jupyter.widget-view+json": {
       "model_id": "8e56b4870fad47859e4915ea7164b58d",
       "version_major": 2,
       "version_minor": 0
      },
      "text/plain": [
       "model-00003-of-00008.safetensors:   0%|          | 0.00/1.84G [00:00<?, ?B/s]"
      ]
     },
     "metadata": {},
     "output_type": "display_data"
    },
    {
     "data": {
      "application/vnd.jupyter.widget-view+json": {
       "model_id": "5abbfed5d1a046b8b62de55acc647fc4",
       "version_major": 2,
       "version_minor": 0
      },
      "text/plain": [
       "model-00007-of-00008.safetensors:   0%|          | 0.00/1.89G [00:00<?, ?B/s]"
      ]
     },
     "metadata": {},
     "output_type": "display_data"
    },
    {
     "data": {
      "application/vnd.jupyter.widget-view+json": {
       "model_id": "6c46d069a17b4d04b9eae6aa2ce7349a",
       "version_major": 2,
       "version_minor": 0
      },
      "text/plain": [
       "model-00006-of-00008.safetensors:   0%|          | 0.00/1.84G [00:00<?, ?B/s]"
      ]
     },
     "metadata": {},
     "output_type": "display_data"
    },
    {
     "data": {
      "application/vnd.jupyter.widget-view+json": {
       "model_id": "1635bcfbe44c4e63b68d702fdf33298d",
       "version_major": 2,
       "version_minor": 0
      },
      "text/plain": [
       "model-00005-of-00008.safetensors:   0%|          | 0.00/1.90G [00:00<?, ?B/s]"
      ]
     },
     "metadata": {},
     "output_type": "display_data"
    },
    {
     "data": {
      "application/vnd.jupyter.widget-view+json": {
       "model_id": "3877fb4c6e2049bca68e47a3f5801bd7",
       "version_major": 2,
       "version_minor": 0
      },
      "text/plain": [
       "model-00002-of-00008.safetensors:   0%|          | 0.00/1.90G [00:00<?, ?B/s]"
      ]
     },
     "metadata": {},
     "output_type": "display_data"
    },
    {
     "data": {
      "application/vnd.jupyter.widget-view+json": {
       "model_id": "f5b04bb7a94c4f7cbaabd6fa74a56f3f",
       "version_major": 2,
       "version_minor": 0
      },
      "text/plain": [
       "model-00008-of-00008.safetensors:   0%|          | 0.00/262M [00:00<?, ?B/s]"
      ]
     },
     "metadata": {},
     "output_type": "display_data"
    },
    {
     "data": {
      "application/vnd.jupyter.widget-view+json": {
       "model_id": "999db17062c14b35966d089cc03f1a5a",
       "version_major": 2,
       "version_minor": 0
      },
      "text/plain": [
       "Loading checkpoint shards:   0%|          | 0/8 [00:00<?, ?it/s]"
      ]
     },
     "metadata": {},
     "output_type": "display_data"
    },
    {
     "data": {
      "application/vnd.jupyter.widget-view+json": {
       "model_id": "d3bebabc77c3420e862188a9162913a1",
       "version_major": 2,
       "version_minor": 0
      },
      "text/plain": [
       "tokenizer_config.json:   0%|          | 0.00/4.08k [00:00<?, ?B/s]"
      ]
     },
     "metadata": {},
     "output_type": "display_data"
    },
    {
     "data": {
      "application/vnd.jupyter.widget-view+json": {
       "model_id": "f525fdffc1584f15bb0897377b15b4e7",
       "version_major": 2,
       "version_minor": 0
      },
      "text/plain": [
       "tokenizer.model:   0%|          | 0.00/500k [00:00<?, ?B/s]"
      ]
     },
     "metadata": {},
     "output_type": "display_data"
    },
    {
     "data": {
      "application/vnd.jupyter.widget-view+json": {
       "model_id": "829cc1cc45d446bfb36461d448588b94",
       "version_major": 2,
       "version_minor": 0
      },
      "text/plain": [
       "tokenizer.json:   0%|          | 0.00/1.85M [00:00<?, ?B/s]"
      ]
     },
     "metadata": {},
     "output_type": "display_data"
    },
    {
     "data": {
      "application/vnd.jupyter.widget-view+json": {
       "model_id": "0a67ee5fa64f425aaf3f29b4f717be57",
       "version_major": 2,
       "version_minor": 0
      },
      "text/plain": [
       "added_tokens.json:   0%|          | 0.00/344 [00:00<?, ?B/s]"
      ]
     },
     "metadata": {},
     "output_type": "display_data"
    },
    {
     "data": {
      "application/vnd.jupyter.widget-view+json": {
       "model_id": "5444ea8adc394fe9a9497ad24c27c346",
       "version_major": 2,
       "version_minor": 0
      },
      "text/plain": [
       "special_tokens_map.json:   0%|          | 0.00/736 [00:00<?, ?B/s]"
      ]
     },
     "metadata": {},
     "output_type": "display_data"
    },
    {
     "name": "stderr",
     "output_type": "stream",
     "text": [
      "GPU memory error: CUDA out of memory. Tried to allocate 172.00 MiB. GPU 0 has a total capacity of 47.41 GiB of which 111.00 MiB is free. Process 3250529 has 26.82 GiB memory in use. Including non-PyTorch memory, this process has 15.49 GiB memory in use. Of the allocated memory 15.23 GiB is allocated by PyTorch, and 3.14 MiB is reserved by PyTorch but unallocated. If reserved but unallocated memory is large try setting PYTORCH_CUDA_ALLOC_CONF=expandable_segments:True to avoid fragmentation.  See documentation for Memory Management  (https://pytorch.org/docs/stable/notes/cuda.html#environment-variables)\n",
      "Trying to load model on CPU instead...\n",
      "No sentence-transformers model found with name epfl-llm/meditron-7b. Creating a new one with mean pooling.\n"
     ]
    },
    {
     "data": {
      "application/vnd.jupyter.widget-view+json": {
       "model_id": "2e2fe783820b41d3ad73ffb49b5b1c8f",
       "version_major": 2,
       "version_minor": 0
      },
      "text/plain": [
       "Loading checkpoint shards:   0%|          | 0/8 [00:00<?, ?it/s]"
      ]
     },
     "metadata": {},
     "output_type": "display_data"
    },
    {
     "name": "stderr",
     "output_type": "stream",
     "text": [
      "Successfully loaded model epfl-llm/meditron-7b on CPU\n"
     ]
    }
   ],
   "source": [
    "model = load_sentence_transformer(\"epfl-llm/meditron-7b\")"
   ]
  },
  {
   "cell_type": "code",
   "execution_count": null,
   "id": "cc631bd5",
   "metadata": {},
   "outputs": [
    {
     "name": "stderr",
     "output_type": "stream",
     "text": [
      "Generating Embeddings:   3%|████▌                                                                                                                              | 1/29 [00:23<10:51, 23.28s/it]"
     ]
    }
   ],
   "source": [
    "embeddings = get_embeddings(\n",
    "    df[\"State\"].unique().tolist(), model=model, show_progress=True\n",
    ")"
   ]
  },
  {
   "cell_type": "code",
   "execution_count": null,
   "id": "9424ef18",
   "metadata": {},
   "outputs": [],
   "source": [
    "pca = do_pca(embeddings, n_components=2)"
   ]
  },
  {
   "cell_type": "code",
   "execution_count": null,
   "id": "df826d68",
   "metadata": {},
   "outputs": [],
   "source": [
    "pca[0]"
   ]
  },
  {
   "cell_type": "code",
   "execution_count": null,
   "id": "29c69127",
   "metadata": {},
   "outputs": [],
   "source": [
    "plot_embedding(\n",
    "    X=pca[0],\n",
    "    labels=df[\"State\"].unique().tolist(),\n",
    "    title=\"PCA of Indian States\",\n",
    "    explained_var=pca[1],\n",
    "    label=True,\n",
    "    repel=True,\n",
    ")"
   ]
  },
  {
   "cell_type": "code",
   "execution_count": null,
   "id": "da4b5e1c",
   "metadata": {},
   "outputs": [],
   "source": []
  }
 ],
 "metadata": {
  "kernelspec": {
   "display_name": "Python [conda env:mamba-alethia2]",
   "language": "python",
   "name": "conda-env-mamba-alethia2-py"
  },
  "language_info": {
   "codemirror_mode": {
    "name": "ipython",
    "version": 3
   },
   "file_extension": ".py",
   "mimetype": "text/x-python",
   "name": "python",
   "nbconvert_exporter": "python",
   "pygments_lexer": "ipython3",
   "version": "3.13.3"
  },
  "widgets": {
   "application/vnd.jupyter.widget-state+json": {
    "state": {
     "01d951d70c4949fb8613c906d7ec390c": {
      "model_module": "@jupyter-widgets/controls",
      "model_module_version": "2.0.0",
      "model_name": "FloatProgressModel",
      "state": {
       "bar_style": "success",
       "layout": "IPY_MODEL_a7fd4224559f48a9880c7083b5027e8d",
       "max": 610,
       "style": "IPY_MODEL_85ae1668bc42400c9f6bd37fe08a59a2",
       "value": 610
      }
     },
     "03059294be374b1e8d431e984e4e354e": {
      "model_module": "@jupyter-widgets/controls",
      "model_module_version": "2.0.0",
      "model_name": "HTMLStyleModel",
      "state": {
       "description_width": "",
       "font_size": null,
       "text_color": null
      }
     },
     "035352ae4578471a9ae8720e1c8202dd": {
      "model_module": "@jupyter-widgets/base",
      "model_module_version": "2.0.0",
      "model_name": "LayoutModel",
      "state": {}
     },
     "03ac1472e0204102acb7b66e20ff47db": {
      "model_module": "@jupyter-widgets/controls",
      "model_module_version": "2.0.0",
      "model_name": "HTMLStyleModel",
      "state": {
       "description_width": "",
       "font_size": null,
       "text_color": null
      }
     },
     "03adfedf775e44f0a036f132921df808": {
      "model_module": "@jupyter-widgets/base",
      "model_module_version": "2.0.0",
      "model_name": "LayoutModel",
      "state": {}
     },
     "094e08d74cf8453faa3baf0e859098f5": {
      "model_module": "@jupyter-widgets/controls",
      "model_module_version": "2.0.0",
      "model_name": "HTMLStyleModel",
      "state": {
       "description_width": "",
       "font_size": null,
       "text_color": null
      }
     },
     "0a67ee5fa64f425aaf3f29b4f717be57": {
      "model_module": "@jupyter-widgets/controls",
      "model_module_version": "2.0.0",
      "model_name": "HBoxModel",
      "state": {
       "children": [
        "IPY_MODEL_fe502cc1a3ef4068a193b270558a9667",
        "IPY_MODEL_7e79192b333a40a49a2f12c0b7786155",
        "IPY_MODEL_64d2c5208a91421da87464c0095a24f8"
       ],
       "layout": "IPY_MODEL_922d37b83b0646508d075bbd0fab5091"
      }
     },
     "0aa12688d59642d0a73268b05c14a013": {
      "model_module": "@jupyter-widgets/base",
      "model_module_version": "2.0.0",
      "model_name": "LayoutModel",
      "state": {}
     },
     "0ae421177a754f689947a57a299f3087": {
      "model_module": "@jupyter-widgets/controls",
      "model_module_version": "2.0.0",
      "model_name": "HTMLStyleModel",
      "state": {
       "description_width": "",
       "font_size": null,
       "text_color": null
      }
     },
     "0be08d241c734ad580a3d46c51ade284": {
      "model_module": "@jupyter-widgets/controls",
      "model_module_version": "2.0.0",
      "model_name": "HTMLModel",
      "state": {
       "layout": "IPY_MODEL_387c1e226eef4f2791899a564e1c4593",
       "style": "IPY_MODEL_0ae421177a754f689947a57a299f3087",
       "value": "model.safetensors.index.json: 100%"
      }
     },
     "0f52c7418d55457d884622603d440807": {
      "model_module": "@jupyter-widgets/controls",
      "model_module_version": "2.0.0",
      "model_name": "HTMLModel",
      "state": {
       "layout": "IPY_MODEL_b5a0b2a6b9054d6098931846f6365b06",
       "style": "IPY_MODEL_d88b85b360c247f19986ffacd5d09fd0",
       "value": "model-00005-of-00008.safetensors: 100%"
      }
     },
     "0f937d77d3294130ba9ca0ee848b59fa": {
      "model_module": "@jupyter-widgets/controls",
      "model_module_version": "2.0.0",
      "model_name": "HTMLStyleModel",
      "state": {
       "description_width": "",
       "font_size": null,
       "text_color": null
      }
     },
     "11c02a76e4d740d08504d846e55d1ac4": {
      "model_module": "@jupyter-widgets/controls",
      "model_module_version": "2.0.0",
      "model_name": "FloatProgressModel",
      "state": {
       "bar_style": "success",
       "layout": "IPY_MODEL_9991cdc8027c487dad0b674d92f31922",
       "max": 1843483520,
       "style": "IPY_MODEL_b2b8463105a745ab86418e900ed05957",
       "value": 1843483520
      }
     },
     "12ca43505aae421286add75ad781f719": {
      "model_module": "@jupyter-widgets/base",
      "model_module_version": "2.0.0",
      "model_name": "LayoutModel",
      "state": {}
     },
     "13ff169ce0c14d26826df46dcddfecc3": {
      "model_module": "@jupyter-widgets/base",
      "model_module_version": "2.0.0",
      "model_name": "LayoutModel",
      "state": {}
     },
     "1635bcfbe44c4e63b68d702fdf33298d": {
      "model_module": "@jupyter-widgets/controls",
      "model_module_version": "2.0.0",
      "model_name": "HBoxModel",
      "state": {
       "children": [
        "IPY_MODEL_0f52c7418d55457d884622603d440807",
        "IPY_MODEL_e424113647cb49499e738ad4cb7d7dba",
        "IPY_MODEL_56610ab51b064cd88f5b3d88713aa785"
       ],
       "layout": "IPY_MODEL_3cf9b1fde44f406e88ce9b2d2ac0c043"
      }
     },
     "198c9ccdcd6846c89e62bce5d810bd6a": {
      "model_module": "@jupyter-widgets/base",
      "model_module_version": "2.0.0",
      "model_name": "LayoutModel",
      "state": {}
     },
     "1ab7261afb4d4811bd2440ba36f4ddd3": {
      "model_module": "@jupyter-widgets/controls",
      "model_module_version": "2.0.0",
      "model_name": "HTMLModel",
      "state": {
       "layout": "IPY_MODEL_d2b9a75021e54200b5a52f9cc2d72c56",
       "style": "IPY_MODEL_267fabfca057452b92c4c03daacdb5c3",
       "value": " 1.84G/1.84G [01:38&lt;00:00, 31.7MB/s]"
      }
     },
     "1ba1c074d91f40ef9e1fc4dd199e5197": {
      "model_module": "@jupyter-widgets/base",
      "model_module_version": "2.0.0",
      "model_name": "LayoutModel",
      "state": {}
     },
     "2227bfe9af0944dca984a9c36a2e80ea": {
      "model_module": "@jupyter-widgets/controls",
      "model_module_version": "2.0.0",
      "model_name": "HTMLModel",
      "state": {
       "layout": "IPY_MODEL_3f5143d021c24bd89ff9f92f1ce93933",
       "style": "IPY_MODEL_03059294be374b1e8d431e984e4e354e",
       "value": " 1.92G/1.92G [01:54&lt;00:00, 40.1MB/s]"
      }
     },
     "253a0efacf524ab9a366708b9f84250a": {
      "model_module": "@jupyter-widgets/base",
      "model_module_version": "2.0.0",
      "model_name": "LayoutModel",
      "state": {}
     },
     "25b5670aa0704bf29e4cbabf6b2edee1": {
      "model_module": "@jupyter-widgets/controls",
      "model_module_version": "2.0.0",
      "model_name": "HTMLStyleModel",
      "state": {
       "description_width": "",
       "font_size": null,
       "text_color": null
      }
     },
     "25ec732065534b5aa090866e33027a7a": {
      "model_module": "@jupyter-widgets/base",
      "model_module_version": "2.0.0",
      "model_name": "LayoutModel",
      "state": {}
     },
     "267fabfca057452b92c4c03daacdb5c3": {
      "model_module": "@jupyter-widgets/controls",
      "model_module_version": "2.0.0",
      "model_name": "HTMLStyleModel",
      "state": {
       "description_width": "",
       "font_size": null,
       "text_color": null
      }
     },
     "26c5a1044daa4474b9ddea0ab4586822": {
      "model_module": "@jupyter-widgets/base",
      "model_module_version": "2.0.0",
      "model_name": "LayoutModel",
      "state": {}
     },
     "28420f5456d94694965b984e68acfcf5": {
      "model_module": "@jupyter-widgets/base",
      "model_module_version": "2.0.0",
      "model_name": "LayoutModel",
      "state": {}
     },
     "2902f642c8564370a44386716f448150": {
      "model_module": "@jupyter-widgets/controls",
      "model_module_version": "2.0.0",
      "model_name": "HTMLStyleModel",
      "state": {
       "description_width": "",
       "font_size": null,
       "text_color": null
      }
     },
     "29cf3f82f128455c869bcf4669a15e90": {
      "model_module": "@jupyter-widgets/base",
      "model_module_version": "2.0.0",
      "model_name": "LayoutModel",
      "state": {}
     },
     "2be86ca03b1f4cd58079b8ab1b7e4f56": {
      "model_module": "@jupyter-widgets/controls",
      "model_module_version": "2.0.0",
      "model_name": "HTMLModel",
      "state": {
       "layout": "IPY_MODEL_9fb500d9ab7b4d7e99d12a58ad0af7ed",
       "style": "IPY_MODEL_be93652ac9644eb7922f43f364cdbda0",
       "value": "tokenizer_config.json: 100%"
      }
     },
     "2d2367a7e5d14cacb0bc084438262381": {
      "model_module": "@jupyter-widgets/controls",
      "model_module_version": "2.0.0",
      "model_name": "HBoxModel",
      "state": {
       "children": [
        "IPY_MODEL_62f8ef36e58742889a3600fd402083a1",
        "IPY_MODEL_d6e645e3d2e74c14a27a7fcd616e3b0c",
        "IPY_MODEL_768921d1da284768903e7dbdc662307b"
       ],
       "layout": "IPY_MODEL_b69f04af130342c29fc9e57f0af07f19"
      }
     },
     "2e2fe783820b41d3ad73ffb49b5b1c8f": {
      "model_module": "@jupyter-widgets/controls",
      "model_module_version": "2.0.0",
      "model_name": "HBoxModel",
      "state": {
       "children": [
        "IPY_MODEL_c6b4f11de1944b289d910b0521da6a5b",
        "IPY_MODEL_31dc7f139e924668bb86f44c1290c127",
        "IPY_MODEL_97cb44ded2634540bf3a67576366414b"
       ],
       "layout": "IPY_MODEL_760ac5b06bf74382bba4738698004aea"
      }
     },
     "2f530bbac73d43e2aadde8f72a3b783c": {
      "model_module": "@jupyter-widgets/controls",
      "model_module_version": "2.0.0",
      "model_name": "ProgressStyleModel",
      "state": {
       "description_width": ""
      }
     },
     "30790c392e054e73be77c5c78effcf89": {
      "model_module": "@jupyter-widgets/controls",
      "model_module_version": "2.0.0",
      "model_name": "FloatProgressModel",
      "state": {
       "bar_style": "success",
       "layout": "IPY_MODEL_9a0d41499c414fcca5259a89581b0f69",
       "max": 8,
       "style": "IPY_MODEL_41c5a6a1f8f94b0091feaf49600a9d18",
       "value": 8
      }
     },
     "31dc7f139e924668bb86f44c1290c127": {
      "model_module": "@jupyter-widgets/controls",
      "model_module_version": "2.0.0",
      "model_name": "FloatProgressModel",
      "state": {
       "bar_style": "success",
       "layout": "IPY_MODEL_6a8deadb77704205bc7c0b0e3c9858ab",
       "max": 8,
       "style": "IPY_MODEL_588aaee9cc7b48138dca9c4293156254",
       "value": 8
      }
     },
     "32844f8029fd4aff9eafb6995fc6150d": {
      "model_module": "@jupyter-widgets/controls",
      "model_module_version": "2.0.0",
      "model_name": "HTMLStyleModel",
      "state": {
       "description_width": "",
       "font_size": null,
       "text_color": null
      }
     },
     "328aecec9ebb41f09d53fb618362f0e7": {
      "model_module": "@jupyter-widgets/controls",
      "model_module_version": "2.0.0",
      "model_name": "HTMLStyleModel",
      "state": {
       "description_width": "",
       "font_size": null,
       "text_color": null
      }
     },
     "342a506ac33a41f3839bfbcac9fee49d": {
      "model_module": "@jupyter-widgets/base",
      "model_module_version": "2.0.0",
      "model_name": "LayoutModel",
      "state": {}
     },
     "353a78f2305548798cd8630b6c59adbc": {
      "model_module": "@jupyter-widgets/controls",
      "model_module_version": "2.0.0",
      "model_name": "FloatProgressModel",
      "state": {
       "bar_style": "success",
       "layout": "IPY_MODEL_46ed8c332b744784bb34d8ef14de4e65",
       "max": 8,
       "style": "IPY_MODEL_4e9e10906bdf464aa36e46b1422c7aca",
       "value": 8
      }
     },
     "368830c16f454a6aa802a09a155cf11c": {
      "model_module": "@jupyter-widgets/controls",
      "model_module_version": "2.0.0",
      "model_name": "HTMLModel",
      "state": {
       "layout": "IPY_MODEL_731ed0273469404ca8c287c758e8ee6e",
       "style": "IPY_MODEL_a72d1e3dee064f87a6c704161d5679f9",
       "value": "tokenizer.model: 100%"
      }
     },
     "38254f0a27ce4545b261d3d423766247": {
      "model_module": "@jupyter-widgets/controls",
      "model_module_version": "2.0.0",
      "model_name": "HTMLModel",
      "state": {
       "layout": "IPY_MODEL_77521c02e6d3407494bdac33e6c9132b",
       "style": "IPY_MODEL_72e6c30ab6ec4e76b2c356625c26887e",
       "value": "Fetching 8 files: 100%"
      }
     },
     "3877fb4c6e2049bca68e47a3f5801bd7": {
      "model_module": "@jupyter-widgets/controls",
      "model_module_version": "2.0.0",
      "model_name": "HBoxModel",
      "state": {
       "children": [
        "IPY_MODEL_fe0998061abd4e37b36a5946611a693d",
        "IPY_MODEL_643d5d4cf022400f82a9e976d913aa11",
        "IPY_MODEL_4be12d0d7b9346439523f21a5602a9f1"
       ],
       "layout": "IPY_MODEL_aa4d9c910c60495da9ca86d7dda119ae"
      }
     },
     "387c1e226eef4f2791899a564e1c4593": {
      "model_module": "@jupyter-widgets/base",
      "model_module_version": "2.0.0",
      "model_name": "LayoutModel",
      "state": {}
     },
     "39b1088c2fed4ee0a89c99a048faac55": {
      "model_module": "@jupyter-widgets/controls",
      "model_module_version": "2.0.0",
      "model_name": "HTMLStyleModel",
      "state": {
       "description_width": "",
       "font_size": null,
       "text_color": null
      }
     },
     "3b2e4a6e840141869dc7930cc778e80e": {
      "model_module": "@jupyter-widgets/controls",
      "model_module_version": "2.0.0",
      "model_name": "HTMLStyleModel",
      "state": {
       "description_width": "",
       "font_size": null,
       "text_color": null
      }
     },
     "3bf03c459ad54689bd5f7a72e164e7bf": {
      "model_module": "@jupyter-widgets/controls",
      "model_module_version": "2.0.0",
      "model_name": "HTMLModel",
      "state": {
       "layout": "IPY_MODEL_03adfedf775e44f0a036f132921df808",
       "style": "IPY_MODEL_9d5a948785194c8cbcc02ae9e9977aa7",
       "value": " 8/8 [02:00&lt;00:00, 60.50s/it]"
      }
     },
     "3cb5340dbbd74a5fa9b11b25f2220a78": {
      "model_module": "@jupyter-widgets/base",
      "model_module_version": "2.0.0",
      "model_name": "LayoutModel",
      "state": {}
     },
     "3cf9b1fde44f406e88ce9b2d2ac0c043": {
      "model_module": "@jupyter-widgets/base",
      "model_module_version": "2.0.0",
      "model_name": "LayoutModel",
      "state": {}
     },
     "3d708588368c4eaca14e488bf2012f3b": {
      "model_module": "@jupyter-widgets/base",
      "model_module_version": "2.0.0",
      "model_name": "LayoutModel",
      "state": {}
     },
     "3da447f08a624f1999aa3a1a410f5e24": {
      "model_module": "@jupyter-widgets/base",
      "model_module_version": "2.0.0",
      "model_name": "LayoutModel",
      "state": {}
     },
     "3f5143d021c24bd89ff9f92f1ce93933": {
      "model_module": "@jupyter-widgets/base",
      "model_module_version": "2.0.0",
      "model_name": "LayoutModel",
      "state": {}
     },
     "41c5a6a1f8f94b0091feaf49600a9d18": {
      "model_module": "@jupyter-widgets/controls",
      "model_module_version": "2.0.0",
      "model_name": "ProgressStyleModel",
      "state": {
       "description_width": ""
      }
     },
     "438b58c72a714b0da0b94fe1b608c75f": {
      "model_module": "@jupyter-widgets/base",
      "model_module_version": "2.0.0",
      "model_name": "LayoutModel",
      "state": {}
     },
     "46ed8c332b744784bb34d8ef14de4e65": {
      "model_module": "@jupyter-widgets/base",
      "model_module_version": "2.0.0",
      "model_name": "LayoutModel",
      "state": {}
     },
     "46ee9d3f57c94f1d901286527763cd93": {
      "model_module": "@jupyter-widgets/controls",
      "model_module_version": "2.0.0",
      "model_name": "HTMLModel",
      "state": {
       "layout": "IPY_MODEL_fbc79b5e99994b2eaf4a31d98a5287d2",
       "style": "IPY_MODEL_094e08d74cf8453faa3baf0e859098f5",
       "value": " 8/8 [00:11&lt;00:00,  1.78s/it]"
      }
     },
     "49d7c5c10bd34465bf765dada999fc8b": {
      "model_module": "@jupyter-widgets/controls",
      "model_module_version": "2.0.0",
      "model_name": "FloatProgressModel",
      "state": {
       "bar_style": "success",
       "layout": "IPY_MODEL_253a0efacf524ab9a366708b9f84250a",
       "max": 736,
       "style": "IPY_MODEL_57107c0fff40489783e80d0339200ff2",
       "value": 736
      }
     },
     "4a4e4d782af440a9b4eed1d1cb2a4fec": {
      "model_module": "@jupyter-widgets/controls",
      "model_module_version": "2.0.0",
      "model_name": "FloatProgressModel",
      "state": {
       "bar_style": "success",
       "layout": "IPY_MODEL_69ebca60db714f83a0c1372fed78e447",
       "max": 1889628920,
       "style": "IPY_MODEL_50cc05ff46d84313a1205c85132f5aa8",
       "value": 1889628920
      }
     },
     "4be12d0d7b9346439523f21a5602a9f1": {
      "model_module": "@jupyter-widgets/controls",
      "model_module_version": "2.0.0",
      "model_name": "HTMLModel",
      "state": {
       "layout": "IPY_MODEL_d7825c3824dc42a5951a38adee437f74",
       "style": "IPY_MODEL_e7300ba121c3480fbda0aa157b1dcd2c",
       "value": " 1.90G/1.90G [01:59&lt;00:00, 27.5MB/s]"
      }
     },
     "4e9e10906bdf464aa36e46b1422c7aca": {
      "model_module": "@jupyter-widgets/controls",
      "model_module_version": "2.0.0",
      "model_name": "ProgressStyleModel",
      "state": {
       "description_width": ""
      }
     },
     "502145ca7b44467cb4ab2f3ca73315fd": {
      "model_module": "@jupyter-widgets/base",
      "model_module_version": "2.0.0",
      "model_name": "LayoutModel",
      "state": {}
     },
     "50cc05ff46d84313a1205c85132f5aa8": {
      "model_module": "@jupyter-widgets/controls",
      "model_module_version": "2.0.0",
      "model_name": "ProgressStyleModel",
      "state": {
       "description_width": ""
      }
     },
     "5126b19941b54752bd06d80a11ff78e1": {
      "model_module": "@jupyter-widgets/base",
      "model_module_version": "2.0.0",
      "model_name": "LayoutModel",
      "state": {}
     },
     "5239ebdc7aa844dfb259541b96229f2e": {
      "model_module": "@jupyter-widgets/controls",
      "model_module_version": "2.0.0",
      "model_name": "HTMLModel",
      "state": {
       "layout": "IPY_MODEL_198c9ccdcd6846c89e62bce5d810bd6a",
       "style": "IPY_MODEL_2902f642c8564370a44386716f448150",
       "value": "model-00004-of-00008.safetensors: 100%"
      }
     },
     "53aa50987b7444d2b42370eeacd03a57": {
      "model_module": "@jupyter-widgets/controls",
      "model_module_version": "2.0.0",
      "model_name": "ProgressStyleModel",
      "state": {
       "description_width": ""
      }
     },
     "5444ea8adc394fe9a9497ad24c27c346": {
      "model_module": "@jupyter-widgets/controls",
      "model_module_version": "2.0.0",
      "model_name": "HBoxModel",
      "state": {
       "children": [
        "IPY_MODEL_ce2e94edfe914cb39ed395e29882c252",
        "IPY_MODEL_49d7c5c10bd34465bf765dada999fc8b",
        "IPY_MODEL_c154cc2f6ef24f8bba1f969228942735"
       ],
       "layout": "IPY_MODEL_a5a67c1fd45b419483ca53e2fb1f1faf"
      }
     },
     "548eb853591f45ea95882c843966a1e0": {
      "model_module": "@jupyter-widgets/controls",
      "model_module_version": "2.0.0",
      "model_name": "HBoxModel",
      "state": {
       "children": [
        "IPY_MODEL_0be08d241c734ad580a3d46c51ade284",
        "IPY_MODEL_df6c685e521e4b57b410498ba015e04c",
        "IPY_MODEL_940b658987274446969f0e9e1f77d22c"
       ],
       "layout": "IPY_MODEL_84f87d498dda4a3facb0a1262db205d3"
      }
     },
     "556cdaa7ff9241a18f5fb5b710adc513": {
      "model_module": "@jupyter-widgets/controls",
      "model_module_version": "2.0.0",
      "model_name": "ProgressStyleModel",
      "state": {
       "description_width": ""
      }
     },
     "558c3004f8ad45ffb6b1f0dc2c0e55f0": {
      "model_module": "@jupyter-widgets/controls",
      "model_module_version": "2.0.0",
      "model_name": "HTMLStyleModel",
      "state": {
       "description_width": "",
       "font_size": null,
       "text_color": null
      }
     },
     "56610ab51b064cd88f5b3d88713aa785": {
      "model_module": "@jupyter-widgets/controls",
      "model_module_version": "2.0.0",
      "model_name": "HTMLModel",
      "state": {
       "layout": "IPY_MODEL_28420f5456d94694965b984e68acfcf5",
       "style": "IPY_MODEL_39b1088c2fed4ee0a89c99a048faac55",
       "value": " 1.90G/1.90G [00:48&lt;00:00, 55.0MB/s]"
      }
     },
     "57107c0fff40489783e80d0339200ff2": {
      "model_module": "@jupyter-widgets/controls",
      "model_module_version": "2.0.0",
      "model_name": "ProgressStyleModel",
      "state": {
       "description_width": ""
      }
     },
     "588aaee9cc7b48138dca9c4293156254": {
      "model_module": "@jupyter-widgets/controls",
      "model_module_version": "2.0.0",
      "model_name": "ProgressStyleModel",
      "state": {
       "description_width": ""
      }
     },
     "5a4915fde66b48aaaeb707f0f6367a8d": {
      "model_module": "@jupyter-widgets/base",
      "model_module_version": "2.0.0",
      "model_name": "LayoutModel",
      "state": {}
     },
     "5aa7d9064861417ea160071162c54466": {
      "model_module": "@jupyter-widgets/base",
      "model_module_version": "2.0.0",
      "model_name": "LayoutModel",
      "state": {}
     },
     "5abbfed5d1a046b8b62de55acc647fc4": {
      "model_module": "@jupyter-widgets/controls",
      "model_module_version": "2.0.0",
      "model_name": "HBoxModel",
      "state": {
       "children": [
        "IPY_MODEL_801d8ed1036141849c4d7618bc773081",
        "IPY_MODEL_4a4e4d782af440a9b4eed1d1cb2a4fec",
        "IPY_MODEL_a95587b508b540dfacf483fb115a0153"
       ],
       "layout": "IPY_MODEL_d21bd29da4ef4dfb9fd0e5b66a1af6d6"
      }
     },
     "5abcfd07b95d4d7c900a64bb32b86298": {
      "model_module": "@jupyter-widgets/controls",
      "model_module_version": "2.0.0",
      "model_name": "HTMLModel",
      "state": {
       "layout": "IPY_MODEL_d9059c343c1f47e1a8538c6653eb20e0",
       "style": "IPY_MODEL_03ac1472e0204102acb7b66e20ff47db",
       "value": "model-00008-of-00008.safetensors: 100%"
      }
     },
     "5c148d5e7c24447d8b516d45b9996606": {
      "model_module": "@jupyter-widgets/base",
      "model_module_version": "2.0.0",
      "model_name": "LayoutModel",
      "state": {}
     },
     "5c3d1ec88ecd436397112f72b3085d93": {
      "model_module": "@jupyter-widgets/controls",
      "model_module_version": "2.0.0",
      "model_name": "FloatProgressModel",
      "state": {
       "bar_style": "success",
       "layout": "IPY_MODEL_658938a7b7ba452aa08892cfd141fba7",
       "max": 499723,
       "style": "IPY_MODEL_99f39d5dd07a47bfa308bf285fd451bc",
       "value": 499723
      }
     },
     "5e2776b34cd94d289ab47f8403233530": {
      "model_module": "@jupyter-widgets/controls",
      "model_module_version": "2.0.0",
      "model_name": "HTMLStyleModel",
      "state": {
       "description_width": "",
       "font_size": null,
       "text_color": null
      }
     },
     "5e3728ce67254a9e8d547e028c11a9ee": {
      "model_module": "@jupyter-widgets/controls",
      "model_module_version": "2.0.0",
      "model_name": "HTMLModel",
      "state": {
       "layout": "IPY_MODEL_12ca43505aae421286add75ad781f719",
       "style": "IPY_MODEL_8d12800d4721427b8132050d91f8463f",
       "value": "tokenizer.json: 100%"
      }
     },
     "5e40cd0efe5a4b4e87ad2e3d4abd07e2": {
      "model_module": "@jupyter-widgets/controls",
      "model_module_version": "2.0.0",
      "model_name": "HTMLStyleModel",
      "state": {
       "description_width": "",
       "font_size": null,
       "text_color": null
      }
     },
     "5eded1e9962c4c52b835b32e8d0b860d": {
      "model_module": "@jupyter-widgets/base",
      "model_module_version": "2.0.0",
      "model_name": "LayoutModel",
      "state": {}
     },
     "5feeb275a6b344fd95b1fc0169350be9": {
      "model_module": "@jupyter-widgets/controls",
      "model_module_version": "2.0.0",
      "model_name": "ProgressStyleModel",
      "state": {
       "description_width": ""
      }
     },
     "6030f6864152424d9b8fc85f9ddd3af3": {
      "model_module": "@jupyter-widgets/controls",
      "model_module_version": "2.0.0",
      "model_name": "ProgressStyleModel",
      "state": {
       "description_width": ""
      }
     },
     "60e56c466cf147ce90d60b6748747002": {
      "model_module": "@jupyter-widgets/controls",
      "model_module_version": "2.0.0",
      "model_name": "HTMLStyleModel",
      "state": {
       "description_width": "",
       "font_size": null,
       "text_color": null
      }
     },
     "62f8ef36e58742889a3600fd402083a1": {
      "model_module": "@jupyter-widgets/controls",
      "model_module_version": "2.0.0",
      "model_name": "HTMLModel",
      "state": {
       "layout": "IPY_MODEL_bc20339df8a14d89aee01566995dc431",
       "style": "IPY_MODEL_7b95ebd683364113b0bfab5f612a3af7",
       "value": "model-00001-of-00008.safetensors: 100%"
      }
     },
     "64368b5e01174ff1a0ca8a518096bede": {
      "model_module": "@jupyter-widgets/controls",
      "model_module_version": "2.0.0",
      "model_name": "ProgressStyleModel",
      "state": {
       "description_width": ""
      }
     },
     "643d5d4cf022400f82a9e976d913aa11": {
      "model_module": "@jupyter-widgets/controls",
      "model_module_version": "2.0.0",
      "model_name": "FloatProgressModel",
      "state": {
       "bar_style": "success",
       "layout": "IPY_MODEL_9d6bc4d594544303b18876b2c7bff74c",
       "max": 1900089976,
       "style": "IPY_MODEL_ef11e47297684b9aac0e717c7d252981",
       "value": 1900089976
      }
     },
     "64d2c5208a91421da87464c0095a24f8": {
      "model_module": "@jupyter-widgets/controls",
      "model_module_version": "2.0.0",
      "model_name": "HTMLModel",
      "state": {
       "layout": "IPY_MODEL_da56b06840244d6297210cb37f650547",
       "style": "IPY_MODEL_b64d61cdc8fc4c5fa1dabc8531339056",
       "value": " 344/344 [00:00&lt;00:00, 34.0kB/s]"
      }
     },
     "658938a7b7ba452aa08892cfd141fba7": {
      "model_module": "@jupyter-widgets/base",
      "model_module_version": "2.0.0",
      "model_name": "LayoutModel",
      "state": {}
     },
     "68dcb98b0d3a46439bb4a90d52d0497c": {
      "model_module": "@jupyter-widgets/controls",
      "model_module_version": "2.0.0",
      "model_name": "HTMLModel",
      "state": {
       "layout": "IPY_MODEL_342a506ac33a41f3839bfbcac9fee49d",
       "style": "IPY_MODEL_558c3004f8ad45ffb6b1f0dc2c0e55f0",
       "value": " 500k/500k [00:00&lt;00:00, 13.2MB/s]"
      }
     },
     "68e33f65f3364f188d375984237ec04a": {
      "model_module": "@jupyter-widgets/controls",
      "model_module_version": "2.0.0",
      "model_name": "FloatProgressModel",
      "state": {
       "bar_style": "success",
       "layout": "IPY_MODEL_5a4915fde66b48aaaeb707f0f6367a8d",
       "max": 4082,
       "style": "IPY_MODEL_a6c7bed209cb4bd2b0a0fc1328fc5b36",
       "value": 4082
      }
     },
     "69ebca60db714f83a0c1372fed78e447": {
      "model_module": "@jupyter-widgets/base",
      "model_module_version": "2.0.0",
      "model_name": "LayoutModel",
      "state": {}
     },
     "6a8deadb77704205bc7c0b0e3c9858ab": {
      "model_module": "@jupyter-widgets/base",
      "model_module_version": "2.0.0",
      "model_name": "LayoutModel",
      "state": {}
     },
     "6b223445dc87463f9049bfe3e8258b0b": {
      "model_module": "@jupyter-widgets/controls",
      "model_module_version": "2.0.0",
      "model_name": "HTMLModel",
      "state": {
       "layout": "IPY_MODEL_3cb5340dbbd74a5fa9b11b25f2220a78",
       "style": "IPY_MODEL_b5fb506a32ed4fe5b1be038007825ce9",
       "value": "model-00006-of-00008.safetensors: 100%"
      }
     },
     "6c46d069a17b4d04b9eae6aa2ce7349a": {
      "model_module": "@jupyter-widgets/controls",
      "model_module_version": "2.0.0",
      "model_name": "HBoxModel",
      "state": {
       "children": [
        "IPY_MODEL_6b223445dc87463f9049bfe3e8258b0b",
        "IPY_MODEL_71cce303f8c748cca2bcded2369a71b4",
        "IPY_MODEL_744f71f3fefe421095a08e5e65c4953e"
       ],
       "layout": "IPY_MODEL_3da447f08a624f1999aa3a1a410f5e24"
      }
     },
     "6db71dd05aaa4be5bd6b7588097f3fb8": {
      "model_module": "@jupyter-widgets/base",
      "model_module_version": "2.0.0",
      "model_name": "LayoutModel",
      "state": {}
     },
     "6e35b7653f694d89adfe5e73ff1ef320": {
      "model_module": "@jupyter-widgets/controls",
      "model_module_version": "2.0.0",
      "model_name": "HTMLModel",
      "state": {
       "layout": "IPY_MODEL_502145ca7b44467cb4ab2f3ca73315fd",
       "style": "IPY_MODEL_5e2776b34cd94d289ab47f8403233530",
       "value": " 610/610 [00:00&lt;00:00, 36.1kB/s]"
      }
     },
     "70a21f81dd64455299a5d94ab5ccd742": {
      "model_module": "@jupyter-widgets/base",
      "model_module_version": "2.0.0",
      "model_name": "LayoutModel",
      "state": {}
     },
     "7156aef565a24b829af6bd895decc77a": {
      "model_module": "@jupyter-widgets/controls",
      "model_module_version": "2.0.0",
      "model_name": "HTMLModel",
      "state": {
       "layout": "IPY_MODEL_5126b19941b54752bd06d80a11ff78e1",
       "style": "IPY_MODEL_60e56c466cf147ce90d60b6748747002",
       "value": "Loading checkpoint shards: 100%"
      }
     },
     "71b27fa3484e473291ab1de2df011322": {
      "model_module": "@jupyter-widgets/controls",
      "model_module_version": "2.0.0",
      "model_name": "HTMLStyleModel",
      "state": {
       "description_width": "",
       "font_size": null,
       "text_color": null
      }
     },
     "71cce303f8c748cca2bcded2369a71b4": {
      "model_module": "@jupyter-widgets/controls",
      "model_module_version": "2.0.0",
      "model_name": "FloatProgressModel",
      "state": {
       "bar_style": "success",
       "layout": "IPY_MODEL_913f9eec6d33477ab8c3f11fca55afd0",
       "max": 1843483528,
       "style": "IPY_MODEL_adbb287d22b04f679f9d5c3e04ae5d1c",
       "value": 1843483528
      }
     },
     "72e6c30ab6ec4e76b2c356625c26887e": {
      "model_module": "@jupyter-widgets/controls",
      "model_module_version": "2.0.0",
      "model_name": "HTMLStyleModel",
      "state": {
       "description_width": "",
       "font_size": null,
       "text_color": null
      }
     },
     "731ed0273469404ca8c287c758e8ee6e": {
      "model_module": "@jupyter-widgets/base",
      "model_module_version": "2.0.0",
      "model_name": "LayoutModel",
      "state": {}
     },
     "744f71f3fefe421095a08e5e65c4953e": {
      "model_module": "@jupyter-widgets/controls",
      "model_module_version": "2.0.0",
      "model_name": "HTMLModel",
      "state": {
       "layout": "IPY_MODEL_9e3264833cb94a29813d7b4e4add2d84",
       "style": "IPY_MODEL_0f937d77d3294130ba9ca0ee848b59fa",
       "value": " 1.84G/1.84G [01:06&lt;00:00, 60.9MB/s]"
      }
     },
     "74ebf6f921494fb88747e2d11f381769": {
      "model_module": "@jupyter-widgets/base",
      "model_module_version": "2.0.0",
      "model_name": "LayoutModel",
      "state": {}
     },
     "760ac5b06bf74382bba4738698004aea": {
      "model_module": "@jupyter-widgets/base",
      "model_module_version": "2.0.0",
      "model_name": "LayoutModel",
      "state": {}
     },
     "768921d1da284768903e7dbdc662307b": {
      "model_module": "@jupyter-widgets/controls",
      "model_module_version": "2.0.0",
      "model_name": "HTMLModel",
      "state": {
       "layout": "IPY_MODEL_f2ec1f368eaf47faa647de25d339cd65",
       "style": "IPY_MODEL_8e8e03c58b6f4dca969d0ad55c43f968",
       "value": " 1.91G/1.91G [00:58&lt;00:00, 62.3MB/s]"
      }
     },
     "77521c02e6d3407494bdac33e6c9132b": {
      "model_module": "@jupyter-widgets/base",
      "model_module_version": "2.0.0",
      "model_name": "LayoutModel",
      "state": {}
     },
     "7a001fc921a04ce8a369f58f1441c72c": {
      "model_module": "@jupyter-widgets/controls",
      "model_module_version": "2.0.0",
      "model_name": "FloatProgressModel",
      "state": {
       "bar_style": "success",
       "layout": "IPY_MODEL_8b0f72c96de34c35b85d0630163cc110",
       "max": 1923175184,
       "style": "IPY_MODEL_6030f6864152424d9b8fc85f9ddd3af3",
       "value": 1923175184
      }
     },
     "7b95ebd683364113b0bfab5f612a3af7": {
      "model_module": "@jupyter-widgets/controls",
      "model_module_version": "2.0.0",
      "model_name": "HTMLStyleModel",
      "state": {
       "description_width": "",
       "font_size": null,
       "text_color": null
      }
     },
     "7c7b6ce46a954c7ab18a935acb3afdc0": {
      "model_module": "@jupyter-widgets/base",
      "model_module_version": "2.0.0",
      "model_name": "LayoutModel",
      "state": {}
     },
     "7e79192b333a40a49a2f12c0b7786155": {
      "model_module": "@jupyter-widgets/controls",
      "model_module_version": "2.0.0",
      "model_name": "FloatProgressModel",
      "state": {
       "bar_style": "success",
       "layout": "IPY_MODEL_25ec732065534b5aa090866e33027a7a",
       "max": 344,
       "style": "IPY_MODEL_64368b5e01174ff1a0ca8a518096bede",
       "value": 344
      }
     },
     "801d8ed1036141849c4d7618bc773081": {
      "model_module": "@jupyter-widgets/controls",
      "model_module_version": "2.0.0",
      "model_name": "HTMLModel",
      "state": {
       "layout": "IPY_MODEL_1ba1c074d91f40ef9e1fc4dd199e5197",
       "style": "IPY_MODEL_e7169d03fda843f89539449736c20252",
       "value": "model-00007-of-00008.safetensors: 100%"
      }
     },
     "829cc1cc45d446bfb36461d448588b94": {
      "model_module": "@jupyter-widgets/controls",
      "model_module_version": "2.0.0",
      "model_name": "HBoxModel",
      "state": {
       "children": [
        "IPY_MODEL_5e3728ce67254a9e8d547e028c11a9ee",
        "IPY_MODEL_b1f0f2cb0a6e4eb5a8211748d5ff0577",
        "IPY_MODEL_d609bd428b464653b13fa6b5022d2c7e"
       ],
       "layout": "IPY_MODEL_13ff169ce0c14d26826df46dcddfecc3"
      }
     },
     "8300ae433dc14c739d84bdccda072dd5": {
      "model_module": "@jupyter-widgets/base",
      "model_module_version": "2.0.0",
      "model_name": "LayoutModel",
      "state": {}
     },
     "83abff3cd7e345d1a1e03acb91ae6da9": {
      "model_module": "@jupyter-widgets/base",
      "model_module_version": "2.0.0",
      "model_name": "LayoutModel",
      "state": {}
     },
     "84f87d498dda4a3facb0a1262db205d3": {
      "model_module": "@jupyter-widgets/base",
      "model_module_version": "2.0.0",
      "model_name": "LayoutModel",
      "state": {}
     },
     "8528d10038e444d1a9a8f9e5c3819b03": {
      "model_module": "@jupyter-widgets/base",
      "model_module_version": "2.0.0",
      "model_name": "LayoutModel",
      "state": {}
     },
     "85ae1668bc42400c9f6bd37fe08a59a2": {
      "model_module": "@jupyter-widgets/controls",
      "model_module_version": "2.0.0",
      "model_name": "ProgressStyleModel",
      "state": {
       "description_width": ""
      }
     },
     "8b0f72c96de34c35b85d0630163cc110": {
      "model_module": "@jupyter-widgets/base",
      "model_module_version": "2.0.0",
      "model_name": "LayoutModel",
      "state": {}
     },
     "8d12800d4721427b8132050d91f8463f": {
      "model_module": "@jupyter-widgets/controls",
      "model_module_version": "2.0.0",
      "model_name": "HTMLStyleModel",
      "state": {
       "description_width": "",
       "font_size": null,
       "text_color": null
      }
     },
     "8e56b4870fad47859e4915ea7164b58d": {
      "model_module": "@jupyter-widgets/controls",
      "model_module_version": "2.0.0",
      "model_name": "HBoxModel",
      "state": {
       "children": [
        "IPY_MODEL_be4a1b0bec84408fbce3c72c0b62388f",
        "IPY_MODEL_11c02a76e4d740d08504d846e55d1ac4",
        "IPY_MODEL_1ab7261afb4d4811bd2440ba36f4ddd3"
       ],
       "layout": "IPY_MODEL_a16090ebc8e74077afc9cd6d86dce1e6"
      }
     },
     "8e8e03c58b6f4dca969d0ad55c43f968": {
      "model_module": "@jupyter-widgets/controls",
      "model_module_version": "2.0.0",
      "model_name": "HTMLStyleModel",
      "state": {
       "description_width": "",
       "font_size": null,
       "text_color": null
      }
     },
     "90b53442ee114e56956d263d89bde0d4": {
      "model_module": "@jupyter-widgets/controls",
      "model_module_version": "2.0.0",
      "model_name": "HTMLStyleModel",
      "state": {
       "description_width": "",
       "font_size": null,
       "text_color": null
      }
     },
     "913f9eec6d33477ab8c3f11fca55afd0": {
      "model_module": "@jupyter-widgets/base",
      "model_module_version": "2.0.0",
      "model_name": "LayoutModel",
      "state": {}
     },
     "922d37b83b0646508d075bbd0fab5091": {
      "model_module": "@jupyter-widgets/base",
      "model_module_version": "2.0.0",
      "model_name": "LayoutModel",
      "state": {}
     },
     "940b658987274446969f0e9e1f77d22c": {
      "model_module": "@jupyter-widgets/controls",
      "model_module_version": "2.0.0",
      "model_name": "HTMLModel",
      "state": {
       "layout": "IPY_MODEL_b9f75ab8c0e548d3a7d8dc61aad2e810",
       "style": "IPY_MODEL_c214dfca8eb14161b7a2034a60bdde91",
       "value": " 23.9k/23.9k [00:00&lt;00:00, 1.47MB/s]"
      }
     },
     "974ebe1c54d6498f964880d04f5f9e60": {
      "model_module": "@jupyter-widgets/base",
      "model_module_version": "2.0.0",
      "model_name": "LayoutModel",
      "state": {}
     },
     "97cb44ded2634540bf3a67576366414b": {
      "model_module": "@jupyter-widgets/controls",
      "model_module_version": "2.0.0",
      "model_name": "HTMLModel",
      "state": {
       "layout": "IPY_MODEL_70a21f81dd64455299a5d94ab5ccd742",
       "style": "IPY_MODEL_25b5670aa0704bf29e4cbabf6b2edee1",
       "value": " 8/8 [00:12&lt;00:00,  1.82s/it]"
      }
     },
     "9991cdc8027c487dad0b674d92f31922": {
      "model_module": "@jupyter-widgets/base",
      "model_module_version": "2.0.0",
      "model_name": "LayoutModel",
      "state": {}
     },
     "999db17062c14b35966d089cc03f1a5a": {
      "model_module": "@jupyter-widgets/controls",
      "model_module_version": "2.0.0",
      "model_name": "HBoxModel",
      "state": {
       "children": [
        "IPY_MODEL_7156aef565a24b829af6bd895decc77a",
        "IPY_MODEL_30790c392e054e73be77c5c78effcf89",
        "IPY_MODEL_46ee9d3f57c94f1d901286527763cd93"
       ],
       "layout": "IPY_MODEL_74ebf6f921494fb88747e2d11f381769"
      }
     },
     "99f39d5dd07a47bfa308bf285fd451bc": {
      "model_module": "@jupyter-widgets/controls",
      "model_module_version": "2.0.0",
      "model_name": "ProgressStyleModel",
      "state": {
       "description_width": ""
      }
     },
     "9a01546cb8214b1bad440ba88aa870d9": {
      "model_module": "@jupyter-widgets/controls",
      "model_module_version": "2.0.0",
      "model_name": "HTMLModel",
      "state": {
       "layout": "IPY_MODEL_7c7b6ce46a954c7ab18a935acb3afdc0",
       "style": "IPY_MODEL_3b2e4a6e840141869dc7930cc778e80e",
       "value": "config.json: 100%"
      }
     },
     "9a0d41499c414fcca5259a89581b0f69": {
      "model_module": "@jupyter-widgets/base",
      "model_module_version": "2.0.0",
      "model_name": "LayoutModel",
      "state": {}
     },
     "9d5a948785194c8cbcc02ae9e9977aa7": {
      "model_module": "@jupyter-widgets/controls",
      "model_module_version": "2.0.0",
      "model_name": "HTMLStyleModel",
      "state": {
       "description_width": "",
       "font_size": null,
       "text_color": null
      }
     },
     "9d6bc4d594544303b18876b2c7bff74c": {
      "model_module": "@jupyter-widgets/base",
      "model_module_version": "2.0.0",
      "model_name": "LayoutModel",
      "state": {}
     },
     "9e3264833cb94a29813d7b4e4add2d84": {
      "model_module": "@jupyter-widgets/base",
      "model_module_version": "2.0.0",
      "model_name": "LayoutModel",
      "state": {}
     },
     "9fb500d9ab7b4d7e99d12a58ad0af7ed": {
      "model_module": "@jupyter-widgets/base",
      "model_module_version": "2.0.0",
      "model_name": "LayoutModel",
      "state": {}
     },
     "a16090ebc8e74077afc9cd6d86dce1e6": {
      "model_module": "@jupyter-widgets/base",
      "model_module_version": "2.0.0",
      "model_name": "LayoutModel",
      "state": {}
     },
     "a5a67c1fd45b419483ca53e2fb1f1faf": {
      "model_module": "@jupyter-widgets/base",
      "model_module_version": "2.0.0",
      "model_name": "LayoutModel",
      "state": {}
     },
     "a6c7bed209cb4bd2b0a0fc1328fc5b36": {
      "model_module": "@jupyter-widgets/controls",
      "model_module_version": "2.0.0",
      "model_name": "ProgressStyleModel",
      "state": {
       "description_width": ""
      }
     },
     "a72d1e3dee064f87a6c704161d5679f9": {
      "model_module": "@jupyter-widgets/controls",
      "model_module_version": "2.0.0",
      "model_name": "HTMLStyleModel",
      "state": {
       "description_width": "",
       "font_size": null,
       "text_color": null
      }
     },
     "a7cb31eb4d034f1cb5e45aba41ceaa97": {
      "model_module": "@jupyter-widgets/controls",
      "model_module_version": "2.0.0",
      "model_name": "HTMLStyleModel",
      "state": {
       "description_width": "",
       "font_size": null,
       "text_color": null
      }
     },
     "a7fd4224559f48a9880c7083b5027e8d": {
      "model_module": "@jupyter-widgets/base",
      "model_module_version": "2.0.0",
      "model_name": "LayoutModel",
      "state": {}
     },
     "a86ef0ce63dc4812ad4f234e6e1eb06b": {
      "model_module": "@jupyter-widgets/base",
      "model_module_version": "2.0.0",
      "model_name": "LayoutModel",
      "state": {}
     },
     "a8ce1d1914c448d7ae7d18f19cf3762d": {
      "model_module": "@jupyter-widgets/controls",
      "model_module_version": "2.0.0",
      "model_name": "HBoxModel",
      "state": {
       "children": [
        "IPY_MODEL_9a01546cb8214b1bad440ba88aa870d9",
        "IPY_MODEL_01d951d70c4949fb8613c906d7ec390c",
        "IPY_MODEL_6e35b7653f694d89adfe5e73ff1ef320"
       ],
       "layout": "IPY_MODEL_0aa12688d59642d0a73268b05c14a013"
      }
     },
     "a95587b508b540dfacf483fb115a0153": {
      "model_module": "@jupyter-widgets/controls",
      "model_module_version": "2.0.0",
      "model_name": "HTMLModel",
      "state": {
       "layout": "IPY_MODEL_adbeb8e29a824c6e8c8d7e4d70214cfd",
       "style": "IPY_MODEL_71b27fa3484e473291ab1de2df011322",
       "value": " 1.89G/1.89G [01:56&lt;00:00, 66.3MB/s]"
      }
     },
     "aa4d9c910c60495da9ca86d7dda119ae": {
      "model_module": "@jupyter-widgets/base",
      "model_module_version": "2.0.0",
      "model_name": "LayoutModel",
      "state": {}
     },
     "adbb287d22b04f679f9d5c3e04ae5d1c": {
      "model_module": "@jupyter-widgets/controls",
      "model_module_version": "2.0.0",
      "model_name": "ProgressStyleModel",
      "state": {
       "description_width": ""
      }
     },
     "adbeb8e29a824c6e8c8d7e4d70214cfd": {
      "model_module": "@jupyter-widgets/base",
      "model_module_version": "2.0.0",
      "model_name": "LayoutModel",
      "state": {}
     },
     "b0337b63d15e4eec93c590b403ea0f7a": {
      "model_module": "@jupyter-widgets/base",
      "model_module_version": "2.0.0",
      "model_name": "LayoutModel",
      "state": {}
     },
     "b1f0f2cb0a6e4eb5a8211748d5ff0577": {
      "model_module": "@jupyter-widgets/controls",
      "model_module_version": "2.0.0",
      "model_name": "FloatProgressModel",
      "state": {
       "bar_style": "success",
       "layout": "IPY_MODEL_26c5a1044daa4474b9ddea0ab4586822",
       "max": 1845876,
       "style": "IPY_MODEL_b805ef17ff5b4d8b86dfd9b7d25ecaa2",
       "value": 1845876
      }
     },
     "b2b8463105a745ab86418e900ed05957": {
      "model_module": "@jupyter-widgets/controls",
      "model_module_version": "2.0.0",
      "model_name": "ProgressStyleModel",
      "state": {
       "description_width": ""
      }
     },
     "b2f65716e62144ac8989bc058598c2dc": {
      "model_module": "@jupyter-widgets/base",
      "model_module_version": "2.0.0",
      "model_name": "LayoutModel",
      "state": {}
     },
     "b5a0b2a6b9054d6098931846f6365b06": {
      "model_module": "@jupyter-widgets/base",
      "model_module_version": "2.0.0",
      "model_name": "LayoutModel",
      "state": {}
     },
     "b5fb506a32ed4fe5b1be038007825ce9": {
      "model_module": "@jupyter-widgets/controls",
      "model_module_version": "2.0.0",
      "model_name": "HTMLStyleModel",
      "state": {
       "description_width": "",
       "font_size": null,
       "text_color": null
      }
     },
     "b6470216702e43cf9115771690fcbf42": {
      "model_module": "@jupyter-widgets/controls",
      "model_module_version": "2.0.0",
      "model_name": "FloatProgressModel",
      "state": {
       "bar_style": "success",
       "layout": "IPY_MODEL_b6af2e71a3c944c3aada7747506dfcee",
       "max": 262283392,
       "style": "IPY_MODEL_2f530bbac73d43e2aadde8f72a3b783c",
       "value": 262283392
      }
     },
     "b64d61cdc8fc4c5fa1dabc8531339056": {
      "model_module": "@jupyter-widgets/controls",
      "model_module_version": "2.0.0",
      "model_name": "HTMLStyleModel",
      "state": {
       "description_width": "",
       "font_size": null,
       "text_color": null
      }
     },
     "b69f04af130342c29fc9e57f0af07f19": {
      "model_module": "@jupyter-widgets/base",
      "model_module_version": "2.0.0",
      "model_name": "LayoutModel",
      "state": {}
     },
     "b6af2e71a3c944c3aada7747506dfcee": {
      "model_module": "@jupyter-widgets/base",
      "model_module_version": "2.0.0",
      "model_name": "LayoutModel",
      "state": {}
     },
     "b805ef17ff5b4d8b86dfd9b7d25ecaa2": {
      "model_module": "@jupyter-widgets/controls",
      "model_module_version": "2.0.0",
      "model_name": "ProgressStyleModel",
      "state": {
       "description_width": ""
      }
     },
     "b9f75ab8c0e548d3a7d8dc61aad2e810": {
      "model_module": "@jupyter-widgets/base",
      "model_module_version": "2.0.0",
      "model_name": "LayoutModel",
      "state": {}
     },
     "bada9d2cf1414d209f0ac0e6c86da274": {
      "model_module": "@jupyter-widgets/base",
      "model_module_version": "2.0.0",
      "model_name": "LayoutModel",
      "state": {}
     },
     "bb3effc201cd42c399a3e9e8da4f241e": {
      "model_module": "@jupyter-widgets/controls",
      "model_module_version": "2.0.0",
      "model_name": "HTMLStyleModel",
      "state": {
       "description_width": "",
       "font_size": null,
       "text_color": null
      }
     },
     "bc20339df8a14d89aee01566995dc431": {
      "model_module": "@jupyter-widgets/base",
      "model_module_version": "2.0.0",
      "model_name": "LayoutModel",
      "state": {}
     },
     "be4a1b0bec84408fbce3c72c0b62388f": {
      "model_module": "@jupyter-widgets/controls",
      "model_module_version": "2.0.0",
      "model_name": "HTMLModel",
      "state": {
       "layout": "IPY_MODEL_f5258efc6e434a34bb3926fe6076a862",
       "style": "IPY_MODEL_32844f8029fd4aff9eafb6995fc6150d",
       "value": "model-00003-of-00008.safetensors: 100%"
      }
     },
     "be93652ac9644eb7922f43f364cdbda0": {
      "model_module": "@jupyter-widgets/controls",
      "model_module_version": "2.0.0",
      "model_name": "HTMLStyleModel",
      "state": {
       "description_width": "",
       "font_size": null,
       "text_color": null
      }
     },
     "c154cc2f6ef24f8bba1f969228942735": {
      "model_module": "@jupyter-widgets/controls",
      "model_module_version": "2.0.0",
      "model_name": "HTMLModel",
      "state": {
       "layout": "IPY_MODEL_6db71dd05aaa4be5bd6b7588097f3fb8",
       "style": "IPY_MODEL_c186378ee26a479d8f19a3382a797398",
       "value": " 736/736 [00:00&lt;00:00, 31.2kB/s]"
      }
     },
     "c186378ee26a479d8f19a3382a797398": {
      "model_module": "@jupyter-widgets/controls",
      "model_module_version": "2.0.0",
      "model_name": "HTMLStyleModel",
      "state": {
       "description_width": "",
       "font_size": null,
       "text_color": null
      }
     },
     "c214dfca8eb14161b7a2034a60bdde91": {
      "model_module": "@jupyter-widgets/controls",
      "model_module_version": "2.0.0",
      "model_name": "HTMLStyleModel",
      "state": {
       "description_width": "",
       "font_size": null,
       "text_color": null
      }
     },
     "c4113cd6665c4ad18ea01268dbd01c8f": {
      "model_module": "@jupyter-widgets/controls",
      "model_module_version": "2.0.0",
      "model_name": "HBoxModel",
      "state": {
       "children": [
        "IPY_MODEL_38254f0a27ce4545b261d3d423766247",
        "IPY_MODEL_353a78f2305548798cd8630b6c59adbc",
        "IPY_MODEL_3bf03c459ad54689bd5f7a72e164e7bf"
       ],
       "layout": "IPY_MODEL_8300ae433dc14c739d84bdccda072dd5"
      }
     },
     "c6b4f11de1944b289d910b0521da6a5b": {
      "model_module": "@jupyter-widgets/controls",
      "model_module_version": "2.0.0",
      "model_name": "HTMLModel",
      "state": {
       "layout": "IPY_MODEL_035352ae4578471a9ae8720e1c8202dd",
       "style": "IPY_MODEL_5e40cd0efe5a4b4e87ad2e3d4abd07e2",
       "value": "Loading checkpoint shards: 100%"
      }
     },
     "ce2e94edfe914cb39ed395e29882c252": {
      "model_module": "@jupyter-widgets/controls",
      "model_module_version": "2.0.0",
      "model_name": "HTMLModel",
      "state": {
       "layout": "IPY_MODEL_b0337b63d15e4eec93c590b403ea0f7a",
       "style": "IPY_MODEL_328aecec9ebb41f09d53fb618362f0e7",
       "value": "special_tokens_map.json: 100%"
      }
     },
     "d0dd3da8950f46e0ba2e5882c6dc8bac": {
      "model_module": "@jupyter-widgets/controls",
      "model_module_version": "2.0.0",
      "model_name": "HTMLModel",
      "state": {
       "layout": "IPY_MODEL_a86ef0ce63dc4812ad4f234e6e1eb06b",
       "style": "IPY_MODEL_bb3effc201cd42c399a3e9e8da4f241e",
       "value": " 4.08k/4.08k [00:00&lt;00:00, 189kB/s]"
      }
     },
     "d21bd29da4ef4dfb9fd0e5b66a1af6d6": {
      "model_module": "@jupyter-widgets/base",
      "model_module_version": "2.0.0",
      "model_name": "LayoutModel",
      "state": {}
     },
     "d2b9a75021e54200b5a52f9cc2d72c56": {
      "model_module": "@jupyter-widgets/base",
      "model_module_version": "2.0.0",
      "model_name": "LayoutModel",
      "state": {}
     },
     "d3bebabc77c3420e862188a9162913a1": {
      "model_module": "@jupyter-widgets/controls",
      "model_module_version": "2.0.0",
      "model_name": "HBoxModel",
      "state": {
       "children": [
        "IPY_MODEL_2be86ca03b1f4cd58079b8ab1b7e4f56",
        "IPY_MODEL_68e33f65f3364f188d375984237ec04a",
        "IPY_MODEL_d0dd3da8950f46e0ba2e5882c6dc8bac"
       ],
       "layout": "IPY_MODEL_5aa7d9064861417ea160071162c54466"
      }
     },
     "d609bd428b464653b13fa6b5022d2c7e": {
      "model_module": "@jupyter-widgets/controls",
      "model_module_version": "2.0.0",
      "model_name": "HTMLModel",
      "state": {
       "layout": "IPY_MODEL_5c148d5e7c24447d8b516d45b9996606",
       "style": "IPY_MODEL_90b53442ee114e56956d263d89bde0d4",
       "value": " 1.85M/1.85M [00:00&lt;00:00, 17.3MB/s]"
      }
     },
     "d6e645e3d2e74c14a27a7fcd616e3b0c": {
      "model_module": "@jupyter-widgets/controls",
      "model_module_version": "2.0.0",
      "model_name": "FloatProgressModel",
      "state": {
       "bar_style": "success",
       "layout": "IPY_MODEL_83abff3cd7e345d1a1e03acb91ae6da9",
       "max": 1914908968,
       "style": "IPY_MODEL_5feeb275a6b344fd95b1fc0169350be9",
       "value": 1914908968
      }
     },
     "d7825c3824dc42a5951a38adee437f74": {
      "model_module": "@jupyter-widgets/base",
      "model_module_version": "2.0.0",
      "model_name": "LayoutModel",
      "state": {}
     },
     "d88b85b360c247f19986ffacd5d09fd0": {
      "model_module": "@jupyter-widgets/controls",
      "model_module_version": "2.0.0",
      "model_name": "HTMLStyleModel",
      "state": {
       "description_width": "",
       "font_size": null,
       "text_color": null
      }
     },
     "d9059c343c1f47e1a8538c6653eb20e0": {
      "model_module": "@jupyter-widgets/base",
      "model_module_version": "2.0.0",
      "model_name": "LayoutModel",
      "state": {}
     },
     "da56b06840244d6297210cb37f650547": {
      "model_module": "@jupyter-widgets/base",
      "model_module_version": "2.0.0",
      "model_name": "LayoutModel",
      "state": {}
     },
     "df6c685e521e4b57b410498ba015e04c": {
      "model_module": "@jupyter-widgets/controls",
      "model_module_version": "2.0.0",
      "model_name": "FloatProgressModel",
      "state": {
       "bar_style": "success",
       "layout": "IPY_MODEL_29cf3f82f128455c869bcf4669a15e90",
       "max": 23950,
       "style": "IPY_MODEL_53aa50987b7444d2b42370eeacd03a57",
       "value": 23950
      }
     },
     "e424113647cb49499e738ad4cb7d7dba": {
      "model_module": "@jupyter-widgets/controls",
      "model_module_version": "2.0.0",
      "model_name": "FloatProgressModel",
      "state": {
       "bar_style": "success",
       "layout": "IPY_MODEL_3d708588368c4eaca14e488bf2012f3b",
       "max": 1900090016,
       "style": "IPY_MODEL_556cdaa7ff9241a18f5fb5b710adc513",
       "value": 1900090016
      }
     },
     "e52d7a57482b422d91d566d86e087049": {
      "model_module": "@jupyter-widgets/controls",
      "model_module_version": "2.0.0",
      "model_name": "HTMLStyleModel",
      "state": {
       "description_width": "",
       "font_size": null,
       "text_color": null
      }
     },
     "e70f597a8780446ea19bd35876f0efb0": {
      "model_module": "@jupyter-widgets/controls",
      "model_module_version": "2.0.0",
      "model_name": "HTMLStyleModel",
      "state": {
       "description_width": "",
       "font_size": null,
       "text_color": null
      }
     },
     "e7169d03fda843f89539449736c20252": {
      "model_module": "@jupyter-widgets/controls",
      "model_module_version": "2.0.0",
      "model_name": "HTMLStyleModel",
      "state": {
       "description_width": "",
       "font_size": null,
       "text_color": null
      }
     },
     "e7300ba121c3480fbda0aa157b1dcd2c": {
      "model_module": "@jupyter-widgets/controls",
      "model_module_version": "2.0.0",
      "model_name": "HTMLStyleModel",
      "state": {
       "description_width": "",
       "font_size": null,
       "text_color": null
      }
     },
     "ef11e47297684b9aac0e717c7d252981": {
      "model_module": "@jupyter-widgets/controls",
      "model_module_version": "2.0.0",
      "model_name": "ProgressStyleModel",
      "state": {
       "description_width": ""
      }
     },
     "ef700f76f3124d16bce348cd17c0291d": {
      "model_module": "@jupyter-widgets/controls",
      "model_module_version": "2.0.0",
      "model_name": "HBoxModel",
      "state": {
       "children": [
        "IPY_MODEL_5239ebdc7aa844dfb259541b96229f2e",
        "IPY_MODEL_7a001fc921a04ce8a369f58f1441c72c",
        "IPY_MODEL_2227bfe9af0944dca984a9c36a2e80ea"
       ],
       "layout": "IPY_MODEL_974ebe1c54d6498f964880d04f5f9e60"
      }
     },
     "f27a512d86be4e09b03d676b8eecc5da": {
      "model_module": "@jupyter-widgets/controls",
      "model_module_version": "2.0.0",
      "model_name": "HTMLModel",
      "state": {
       "layout": "IPY_MODEL_8528d10038e444d1a9a8f9e5c3819b03",
       "style": "IPY_MODEL_a7cb31eb4d034f1cb5e45aba41ceaa97",
       "value": " 262M/262M [00:06&lt;00:00, 54.9MB/s]"
      }
     },
     "f2ec1f368eaf47faa647de25d339cd65": {
      "model_module": "@jupyter-widgets/base",
      "model_module_version": "2.0.0",
      "model_name": "LayoutModel",
      "state": {}
     },
     "f5258efc6e434a34bb3926fe6076a862": {
      "model_module": "@jupyter-widgets/base",
      "model_module_version": "2.0.0",
      "model_name": "LayoutModel",
      "state": {}
     },
     "f525fdffc1584f15bb0897377b15b4e7": {
      "model_module": "@jupyter-widgets/controls",
      "model_module_version": "2.0.0",
      "model_name": "HBoxModel",
      "state": {
       "children": [
        "IPY_MODEL_368830c16f454a6aa802a09a155cf11c",
        "IPY_MODEL_5c3d1ec88ecd436397112f72b3085d93",
        "IPY_MODEL_68dcb98b0d3a46439bb4a90d52d0497c"
       ],
       "layout": "IPY_MODEL_5eded1e9962c4c52b835b32e8d0b860d"
      }
     },
     "f5b04bb7a94c4f7cbaabd6fa74a56f3f": {
      "model_module": "@jupyter-widgets/controls",
      "model_module_version": "2.0.0",
      "model_name": "HBoxModel",
      "state": {
       "children": [
        "IPY_MODEL_5abcfd07b95d4d7c900a64bb32b86298",
        "IPY_MODEL_b6470216702e43cf9115771690fcbf42",
        "IPY_MODEL_f27a512d86be4e09b03d676b8eecc5da"
       ],
       "layout": "IPY_MODEL_bada9d2cf1414d209f0ac0e6c86da274"
      }
     },
     "fbc79b5e99994b2eaf4a31d98a5287d2": {
      "model_module": "@jupyter-widgets/base",
      "model_module_version": "2.0.0",
      "model_name": "LayoutModel",
      "state": {}
     },
     "fe0998061abd4e37b36a5946611a693d": {
      "model_module": "@jupyter-widgets/controls",
      "model_module_version": "2.0.0",
      "model_name": "HTMLModel",
      "state": {
       "layout": "IPY_MODEL_438b58c72a714b0da0b94fe1b608c75f",
       "style": "IPY_MODEL_e70f597a8780446ea19bd35876f0efb0",
       "value": "model-00002-of-00008.safetensors: 100%"
      }
     },
     "fe502cc1a3ef4068a193b270558a9667": {
      "model_module": "@jupyter-widgets/controls",
      "model_module_version": "2.0.0",
      "model_name": "HTMLModel",
      "state": {
       "layout": "IPY_MODEL_b2f65716e62144ac8989bc058598c2dc",
       "style": "IPY_MODEL_e52d7a57482b422d91d566d86e087049",
       "value": "added_tokens.json: 100%"
      }
     }
    },
    "version_major": 2,
    "version_minor": 0
   }
  }
 },
 "nbformat": 4,
 "nbformat_minor": 5
}
